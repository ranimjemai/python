{
  "cells": [
    {
      "cell_type": "markdown",
      "metadata": {
        "id": "view-in-github",
        "colab_type": "text"
      },
      "source": [
        "<a href=\"https://colab.research.google.com/github/ranimjemai/python/blob/main/tp.ipynb\" target=\"_parent\"><img src=\"https://colab.research.google.com/assets/colab-badge.svg\" alt=\"Open In Colab\"/></a>"
      ]
    },
    {
      "cell_type": "markdown",
      "metadata": {
        "id": "w3tYryYmjJo_"
      },
      "source": [
        "## **## Pydantic Tutorial**\n",
        "# Python’s Dynamic Typing Problem\n",
        "# ex1\n",
        "Python détermine le type de variable automatiquement (typage dynamique), tandis que Java exige une déclaration explicite du type (typage statique)."
      ]
    },
    {
      "cell_type": "code",
      "execution_count": null,
      "metadata": {
        "colab": {
          "base_uri": "https://localhost:8080/",
          "height": 106
        },
        "id": "pxi68h6XjUGV",
        "outputId": "e4378163-cead-4fe2-a13d-926e24aab59c"
      },
      "outputs": [
        {
          "ename": "SyntaxError",
          "evalue": "invalid syntax (<ipython-input-3-23efe2493226>, line 7)",
          "output_type": "error",
          "traceback": [
            "\u001b[0;36m  File \u001b[0;32m\"<ipython-input-3-23efe2493226>\"\u001b[0;36m, line \u001b[0;32m7\u001b[0m\n\u001b[0;31m    int x = 10;\u001b[0m\n\u001b[0m        ^\u001b[0m\n\u001b[0;31mSyntaxError\u001b[0m\u001b[0;31m:\u001b[0m invalid syntax\n"
          ]
        }
      ],
      "source": [
        "# Python\n",
        "x = 10\n",
        "# Python\n",
        "x = 10\n",
        "\n",
        "# Java\n",
        "int x = 10;"
      ]
    },
    {
      "cell_type": "markdown",
      "metadata": {
        "id": "jjMR2EM6jy9J"
      },
      "source": [
        "### ex2\n",
        "La variable x est initialisée avec la valeur 10, puis réaffectée avec la valeur \"hello\", illustrant le typage dynamique de Python."
      ]
    },
    {
      "cell_type": "code",
      "execution_count": null,
      "metadata": {
        "id": "bmG2Z6Ufj0Jx"
      },
      "outputs": [],
      "source": [
        "x = 10\n",
        "x = 'hello'"
      ]
    },
    {
      "cell_type": "markdown",
      "metadata": {
        "id": "SUWVU1i3kr8G"
      },
      "source": [
        "### ex3\n",
        "Le code crée deux instances de la classe Person, les deux représentant une personne nommée \"Ali\", mais la première avec un âge de 24 (un entier) et la seconde avec un âge de \"24\" (une chaîne de caractères). Cela démontre la flexibilité de la classe Person à gérer différents types de données pour l'attribut âge."
      ]
    },
    {
      "cell_type": "code",
      "execution_count": null,
      "metadata": {
        "colab": {
          "base_uri": "https://localhost:8080/",
          "height": 158
        },
        "id": "-ScVeC9WkzEX",
        "outputId": "9afa477b-7ed7-4366-9f65-a4646cee0dd6"
      },
      "outputs": [
        {
          "ename": "NameError",
          "evalue": "name 'Person' is not defined",
          "output_type": "error",
          "traceback": [
            "\u001b[0;31m---------------------------------------------------------------------------\u001b[0m",
            "\u001b[0;31mNameError\u001b[0m                                 Traceback (most recent call last)",
            "\u001b[0;32m<ipython-input-5-34e74da3e422>\u001b[0m in \u001b[0;36m<cell line: 0>\u001b[0;34m()\u001b[0m\n\u001b[0;32m----> 1\u001b[0;31m \u001b[0mali\u001b[0m \u001b[0;34m=\u001b[0m \u001b[0mPerson\u001b[0m\u001b[0;34m(\u001b[0m\u001b[0;34m\"Ali\"\u001b[0m\u001b[0;34m,\u001b[0m \u001b[0;36m24\u001b[0m\u001b[0;34m)\u001b[0m\u001b[0;34m\u001b[0m\u001b[0;34m\u001b[0m\u001b[0m\n\u001b[0m\u001b[1;32m      2\u001b[0m \u001b[0mali\u001b[0m \u001b[0;34m=\u001b[0m \u001b[0mPerson\u001b[0m\u001b[0;34m(\u001b[0m\u001b[0;34m\"Ali\"\u001b[0m\u001b[0;34m,\u001b[0m \u001b[0;34m\"24\"\u001b[0m\u001b[0;34m)\u001b[0m\u001b[0;34m\u001b[0m\u001b[0;34m\u001b[0m\u001b[0m\n",
            "\u001b[0;31mNameError\u001b[0m: name 'Person' is not defined"
          ]
        }
      ],
      "source": [
        "ali = Person(\"Ali\", 24)\n",
        "ali = Person(\"Ali\", \"24\")"
      ]
    },
    {
      "cell_type": "markdown",
      "metadata": {
        "id": "N_O9DrLfmG5U"
      },
      "source": [
        "### ex4\n",
        "Le code définit deux versions de la classe Person, la première utilisant dataclass pour des attributs simples (nom et âge en tant que chaînes de caractères) et la seconde utilisant Pydantic pour une validation plus stricte des données (nom, email et identifiant de compte avec des types spécifiques)"
      ]
    },
    {
      "cell_type": "code",
      "execution_count": null,
      "metadata": {
        "colab": {
          "base_uri": "https://localhost:8080/",
          "height": 211
        },
        "id": "Qdy7GSAqmMm4",
        "outputId": "da240a59-a348-4671-e023-2ec9ce6c3249"
      },
      "outputs": [
        {
          "ename": "NameError",
          "evalue": "name 'dataclass' is not defined",
          "output_type": "error",
          "traceback": [
            "\u001b[0;31m---------------------------------------------------------------------------\u001b[0m",
            "\u001b[0;31mNameError\u001b[0m                                 Traceback (most recent call last)",
            "\u001b[0;32m<ipython-input-8-609fabc6af5c>\u001b[0m in \u001b[0;36m<cell line: 0>\u001b[0;34m()\u001b[0m\n\u001b[0;32m----> 1\u001b[0;31m \u001b[0;34m@\u001b[0m\u001b[0mdataclass\u001b[0m\u001b[0;34m\u001b[0m\u001b[0;34m\u001b[0m\u001b[0m\n\u001b[0m\u001b[1;32m      2\u001b[0m \u001b[0;32mclass\u001b[0m \u001b[0mPerson\u001b[0m\u001b[0;34m:\u001b[0m\u001b[0;34m\u001b[0m\u001b[0;34m\u001b[0m\u001b[0m\n\u001b[1;32m      3\u001b[0m     \u001b[0mname\u001b[0m\u001b[0;34m:\u001b[0m \u001b[0mstr\u001b[0m\u001b[0;34m\u001b[0m\u001b[0;34m\u001b[0m\u001b[0m\n\u001b[1;32m      4\u001b[0m     \u001b[0mage\u001b[0m\u001b[0;34m:\u001b[0m \u001b[0mstr\u001b[0m\u001b[0;34m\u001b[0m\u001b[0;34m\u001b[0m\u001b[0m\n\u001b[1;32m      5\u001b[0m \u001b[0;34m\u001b[0m\u001b[0m\n",
            "\u001b[0;31mNameError\u001b[0m: name 'dataclass' is not defined"
          ]
        }
      ],
      "source": [
        "@dataclass\n",
        "class Person:\n",
        "    name: str\n",
        "    age: str\n",
        "\n",
        "# Using Pydantic\n",
        "class Person(BaseModel):\n",
        "    name: str\n",
        "    email: EmailStr\n",
        "    account_id: int"
      ]
    },
    {
      "cell_type": "markdown",
      "metadata": {
        "id": "BFrovdCEuvi9"
      },
      "source": [
        "## How To Use Pydantic"
      ]
    },
    {
      "cell_type": "markdown",
      "metadata": {
        "id": "LFwhatUKnJCM"
      },
      "source": [
        "### ex5\n",
        "Cette commande installe la bibliothèque pydantic en Python."
      ]
    },
    {
      "cell_type": "code",
      "execution_count": null,
      "metadata": {
        "colab": {
          "base_uri": "https://localhost:8080/"
        },
        "id": "GuhrfUTjnPGu",
        "outputId": "ffe61935-91e6-4703-b527-6f80ab7a3d80"
      },
      "outputs": [
        {
          "name": "stdout",
          "output_type": "stream",
          "text": [
            "Requirement already satisfied: pydantic in /usr/local/lib/python3.11/dist-packages (2.11.3)\n",
            "Requirement already satisfied: annotated-types>=0.6.0 in /usr/local/lib/python3.11/dist-packages (from pydantic) (0.7.0)\n",
            "Requirement already satisfied: pydantic-core==2.33.1 in /usr/local/lib/python3.11/dist-packages (from pydantic) (2.33.1)\n",
            "Requirement already satisfied: typing-extensions>=4.12.2 in /usr/local/lib/python3.11/dist-packages (from pydantic) (4.13.2)\n",
            "Requirement already satisfied: typing-inspection>=0.4.0 in /usr/local/lib/python3.11/dist-packages (from pydantic) (0.4.0)\n"
          ]
        }
      ],
      "source": [
        "pip install pydantic"
      ]
    },
    {
      "cell_type": "markdown",
      "metadata": {
        "id": "U89MLRnSnd9_"
      },
      "source": []
    },
    {
      "cell_type": "markdown",
      "metadata": {
        "id": "TExg4AzEnl8s"
      },
      "source": [
        "### ex6\n",
        "Ce code importe BaseModel de pydantic et définit une classe User avec des attributs typés pour le nom, l'email et l'identifiant de compte."
      ]
    },
    {
      "cell_type": "code",
      "execution_count": null,
      "metadata": {
        "id": "0n0_hr-EnpCN"
      },
      "outputs": [],
      "source": [
        "from pydantic import BaseModel\n",
        "\n",
        "class User(BaseModel):\n",
        "    name: str\n",
        "    email: str\n",
        "    account_id: int"
      ]
    },
    {
      "cell_type": "markdown",
      "metadata": {
        "id": "QzsMS4nuoJtE"
      },
      "source": [
        "# ex7\n",
        "Ce code crée une instance de la classe User nommée user avec les valeurs spécifiées pour le nom, l'email et l'identifiant de compte."
      ]
    },
    {
      "cell_type": "code",
      "execution_count": null,
      "metadata": {
        "id": "j-N3hD6VoORt"
      },
      "outputs": [],
      "source": [
        "user = User(\n",
        "    name = \"Salah\",\n",
        "    email = \"salah@gmail.com\",\n",
        "    account_id = 12345\n",
        ")"
      ]
    },
    {
      "cell_type": "markdown",
      "metadata": {
        "id": "9O50g2q4ojk3"
      },
      "source": [
        "## ex8\n",
        "Ce code crée une instance de la classe User nommée user en utilisant les données d'un dictionnaire user_data."
      ]
    },
    {
      "cell_type": "code",
      "execution_count": null,
      "metadata": {
        "id": "P9-RIPebolyy"
      },
      "outputs": [],
      "source": [
        "user_data = {\n",
        "    'name': 'Salah',\n",
        "    'email': 'salah@gmail.com',\n",
        "    'account_id': 12345\n",
        "}\n",
        "\n",
        "user = User(**user_data)"
      ]
    },
    {
      "cell_type": "markdown",
      "metadata": {
        "id": "AFlzOeggpEZM"
      },
      "source": [
        "# ex9\n",
        "Le code affiche successivement la valeur de l'attribut name de l'objet user, mais les commentaires sont incorrects car ils devraient afficher \"Salah\" à chaque fois. Ils ne devraient pas afficher l'email ni l'identifiant de compte."
      ]
    },
    {
      "cell_type": "code",
      "execution_count": null,
      "metadata": {
        "colab": {
          "base_uri": "https://localhost:8080/"
        },
        "id": "gKQO-tTYpIcE",
        "outputId": "447cf6d4-3acc-4145-c9a8-2a8215f184a9"
      },
      "outputs": [
        {
          "name": "stdout",
          "output_type": "stream",
          "text": [
            "Salah\n",
            "Salah\n",
            "Salah\n"
          ]
        }
      ],
      "source": [
        "print(user.name)    # Salah\n",
        "print(user.name)    # salah@gmail.com\n",
        "print(user.name)    # 12345"
      ]
    },
    {
      "cell_type": "markdown",
      "metadata": {
        "id": "9Cwk1q-Iu22L"
      },
      "source": [
        "## Validating Data with Pydantic"
      ]
    },
    {
      "cell_type": "markdown",
      "metadata": {
        "id": "FwgAkjt8p8j_"
      },
      "source": [
        "## ex9\n",
        "Ce code essaie de créer un utilisateur avec un identifiant de compte (account_id) qui est une chaîne de caractères (\"hello\") au lieu d'un entier, ce qui provoquera une erreur de validation car account_id est défini comme un entier dans la classe User."
      ]
    },
    {
      "cell_type": "code",
      "execution_count": null,
      "metadata": {
        "colab": {
          "base_uri": "https://localhost:8080/",
          "height": 384
        },
        "id": "gQI_FUBJqETp",
        "outputId": "3da5a56a-ff2d-43b2-dd45-2467f1b6fc17"
      },
      "outputs": [
        {
          "ename": "ValidationError",
          "evalue": "1 validation error for User\naccount_id\n  Input should be a valid integer, unable to parse string as an integer [type=int_parsing, input_value='hello', input_type=str]\n    For further information visit https://errors.pydantic.dev/2.11/v/int_parsing",
          "output_type": "error",
          "traceback": [
            "\u001b[0;31m---------------------------------------------------------------------------\u001b[0m",
            "\u001b[0;31mValidationError\u001b[0m                           Traceback (most recent call last)",
            "\u001b[0;32m<ipython-input-14-da8ca66f9eb7>\u001b[0m in \u001b[0;36m<cell line: 0>\u001b[0;34m()\u001b[0m\n\u001b[1;32m      7\u001b[0m \u001b[0;34m\u001b[0m\u001b[0m\n\u001b[1;32m      8\u001b[0m \u001b[0;31m# It will fail and show a validation error\u001b[0m\u001b[0;34m\u001b[0m\u001b[0;34m\u001b[0m\u001b[0m\n\u001b[0;32m----> 9\u001b[0;31m \u001b[0muser\u001b[0m \u001b[0;34m=\u001b[0m \u001b[0mUser\u001b[0m\u001b[0;34m(\u001b[0m\u001b[0mname\u001b[0m \u001b[0;34m=\u001b[0m \u001b[0;34m'Ali'\u001b[0m\u001b[0;34m,\u001b[0m \u001b[0memail\u001b[0m \u001b[0;34m=\u001b[0m \u001b[0;34m'ali@gmailcom'\u001b[0m\u001b[0;34m,\u001b[0m \u001b[0maccount_id\u001b[0m \u001b[0;34m=\u001b[0m \u001b[0;34m'hello'\u001b[0m\u001b[0;34m)\u001b[0m\u001b[0;34m\u001b[0m\u001b[0;34m\u001b[0m\u001b[0m\n\u001b[0m\u001b[1;32m     10\u001b[0m \u001b[0mprint\u001b[0m\u001b[0;34m(\u001b[0m\u001b[0muser\u001b[0m\u001b[0;34m)\u001b[0m\u001b[0;34m\u001b[0m\u001b[0;34m\u001b[0m\u001b[0m\n",
            "\u001b[0;32m/usr/local/lib/python3.11/dist-packages/pydantic/main.py\u001b[0m in \u001b[0;36m__init__\u001b[0;34m(self, **data)\u001b[0m\n\u001b[1;32m    251\u001b[0m         \u001b[0;31m# `__tracebackhide__` tells pytest and some other tools to omit this function from tracebacks\u001b[0m\u001b[0;34m\u001b[0m\u001b[0;34m\u001b[0m\u001b[0m\n\u001b[1;32m    252\u001b[0m         \u001b[0m__tracebackhide__\u001b[0m \u001b[0;34m=\u001b[0m \u001b[0;32mTrue\u001b[0m\u001b[0;34m\u001b[0m\u001b[0;34m\u001b[0m\u001b[0m\n\u001b[0;32m--> 253\u001b[0;31m         \u001b[0mvalidated_self\u001b[0m \u001b[0;34m=\u001b[0m \u001b[0mself\u001b[0m\u001b[0;34m.\u001b[0m\u001b[0m__pydantic_validator__\u001b[0m\u001b[0;34m.\u001b[0m\u001b[0mvalidate_python\u001b[0m\u001b[0;34m(\u001b[0m\u001b[0mdata\u001b[0m\u001b[0;34m,\u001b[0m \u001b[0mself_instance\u001b[0m\u001b[0;34m=\u001b[0m\u001b[0mself\u001b[0m\u001b[0;34m)\u001b[0m\u001b[0;34m\u001b[0m\u001b[0;34m\u001b[0m\u001b[0m\n\u001b[0m\u001b[1;32m    254\u001b[0m         \u001b[0;32mif\u001b[0m \u001b[0mself\u001b[0m \u001b[0;32mis\u001b[0m \u001b[0;32mnot\u001b[0m \u001b[0mvalidated_self\u001b[0m\u001b[0;34m:\u001b[0m\u001b[0;34m\u001b[0m\u001b[0;34m\u001b[0m\u001b[0m\n\u001b[1;32m    255\u001b[0m             warnings.warn(\n",
            "\u001b[0;31mValidationError\u001b[0m: 1 validation error for User\naccount_id\n  Input should be a valid integer, unable to parse string as an integer [type=int_parsing, input_value='hello', input_type=str]\n    For further information visit https://errors.pydantic.dev/2.11/v/int_parsing"
          ]
        }
      ],
      "source": [
        "from pydantic import BaseModel\n",
        "\n",
        "class User(BaseModel):\n",
        "    name: str\n",
        "    email: str\n",
        "    account_id: int\n",
        "\n",
        "# It will fail and show a validation error\n",
        "user = User(name = 'Ali', email = 'ali@gmailcom', account_id = 'hello')\n",
        "print(user)"
      ]
    },
    {
      "cell_type": "markdown",
      "metadata": {
        "id": "ViyKNgTkqbuG"
      },
      "source": [
        "## ex10\n",
        "Ce code définit une classe User avec Pydantic qui inclut une validation pour l'adresse email. Il essaie ensuite de créer un utilisateur avec une adresse email invalide (\"ali\"), ce qui provoquera une erreur de validation car le champ email est défini avec le type EmailStr qui exige un format d'email valide."
      ]
    },
    {
      "cell_type": "code",
      "execution_count": null,
      "metadata": {
        "colab": {
          "base_uri": "https://localhost:8080/",
          "height": 598
        },
        "id": "qXd4_KWWqehV",
        "outputId": "e631a7e1-93c6-4064-8611-b5aa8112190e"
      },
      "outputs": [
        {
          "ename": "ImportError",
          "evalue": "email-validator is not installed, run `pip install pydantic[email]`",
          "output_type": "error",
          "traceback": [
            "\u001b[0;31m---------------------------------------------------------------------------\u001b[0m",
            "\u001b[0;31mModuleNotFoundError\u001b[0m                       Traceback (most recent call last)",
            "\u001b[0;32m/usr/local/lib/python3.11/dist-packages/pydantic/networks.py\u001b[0m in \u001b[0;36mimport_email_validator\u001b[0;34m()\u001b[0m\n\u001b[1;32m    945\u001b[0m     \u001b[0;32mtry\u001b[0m\u001b[0;34m:\u001b[0m\u001b[0;34m\u001b[0m\u001b[0;34m\u001b[0m\u001b[0m\n\u001b[0;32m--> 946\u001b[0;31m         \u001b[0;32mimport\u001b[0m \u001b[0memail_validator\u001b[0m\u001b[0;34m\u001b[0m\u001b[0;34m\u001b[0m\u001b[0m\n\u001b[0m\u001b[1;32m    947\u001b[0m     \u001b[0;32mexcept\u001b[0m \u001b[0mImportError\u001b[0m \u001b[0;32mas\u001b[0m \u001b[0me\u001b[0m\u001b[0;34m:\u001b[0m\u001b[0;34m\u001b[0m\u001b[0;34m\u001b[0m\u001b[0m\n",
            "\u001b[0;31mModuleNotFoundError\u001b[0m: No module named 'email_validator'",
            "\nThe above exception was the direct cause of the following exception:\n",
            "\u001b[0;31mImportError\u001b[0m                               Traceback (most recent call last)",
            "\u001b[0;32m<ipython-input-15-5e97c5a00e6c>\u001b[0m in \u001b[0;36m<cell line: 0>\u001b[0;34m()\u001b[0m\n\u001b[1;32m      1\u001b[0m \u001b[0;32mfrom\u001b[0m \u001b[0mpydantic\u001b[0m \u001b[0;32mimport\u001b[0m \u001b[0mBaseModel\u001b[0m\u001b[0;34m,\u001b[0m \u001b[0mEmailStr\u001b[0m\u001b[0;34m\u001b[0m\u001b[0;34m\u001b[0m\u001b[0m\n\u001b[1;32m      2\u001b[0m \u001b[0;34m\u001b[0m\u001b[0m\n\u001b[0;32m----> 3\u001b[0;31m \u001b[0;32mclass\u001b[0m \u001b[0mUser\u001b[0m\u001b[0;34m(\u001b[0m\u001b[0mBaseModel\u001b[0m\u001b[0;34m)\u001b[0m\u001b[0;34m:\u001b[0m\u001b[0;34m\u001b[0m\u001b[0;34m\u001b[0m\u001b[0m\n\u001b[0m\u001b[1;32m      4\u001b[0m     \u001b[0mname\u001b[0m\u001b[0;34m:\u001b[0m \u001b[0mstr\u001b[0m\u001b[0;34m\u001b[0m\u001b[0;34m\u001b[0m\u001b[0m\n\u001b[1;32m      5\u001b[0m     \u001b[0memail\u001b[0m\u001b[0;34m:\u001b[0m \u001b[0mEmailStr\u001b[0m     \u001b[0;31m# pip install pydantic[email]\u001b[0m\u001b[0;34m\u001b[0m\u001b[0;34m\u001b[0m\u001b[0m\n",
            "\u001b[0;32m/usr/local/lib/python3.11/dist-packages/pydantic/_internal/_model_construction.py\u001b[0m in \u001b[0;36m__new__\u001b[0;34m(mcs, cls_name, bases, namespace, __pydantic_generic_metadata__, __pydantic_reset_parent_namespace__, _create_model_module, **kwargs)\u001b[0m\n\u001b[1;32m    235\u001b[0m                 \u001b[0;31m# Any operation that requires accessing the field infos instances should be put inside\u001b[0m\u001b[0;34m\u001b[0m\u001b[0;34m\u001b[0m\u001b[0m\n\u001b[1;32m    236\u001b[0m                 \u001b[0;31m# `complete_model_class()`:\u001b[0m\u001b[0;34m\u001b[0m\u001b[0;34m\u001b[0m\u001b[0m\n\u001b[0;32m--> 237\u001b[0;31m                 complete_model_class(\n\u001b[0m\u001b[1;32m    238\u001b[0m                     \u001b[0mcls\u001b[0m\u001b[0;34m,\u001b[0m\u001b[0;34m\u001b[0m\u001b[0;34m\u001b[0m\u001b[0m\n\u001b[1;32m    239\u001b[0m                     \u001b[0mconfig_wrapper\u001b[0m\u001b[0;34m,\u001b[0m\u001b[0;34m\u001b[0m\u001b[0;34m\u001b[0m\u001b[0m\n",
            "\u001b[0;32m/usr/local/lib/python3.11/dist-packages/pydantic/_internal/_model_construction.py\u001b[0m in \u001b[0;36mcomplete_model_class\u001b[0;34m(cls, config_wrapper, raise_errors, ns_resolver, create_model_module)\u001b[0m\n\u001b[1;32m    595\u001b[0m \u001b[0;34m\u001b[0m\u001b[0m\n\u001b[1;32m    596\u001b[0m     \u001b[0;32mtry\u001b[0m\u001b[0;34m:\u001b[0m\u001b[0;34m\u001b[0m\u001b[0;34m\u001b[0m\u001b[0m\n\u001b[0;32m--> 597\u001b[0;31m         \u001b[0mschema\u001b[0m \u001b[0;34m=\u001b[0m \u001b[0mgen_schema\u001b[0m\u001b[0;34m.\u001b[0m\u001b[0mgenerate_schema\u001b[0m\u001b[0;34m(\u001b[0m\u001b[0mcls\u001b[0m\u001b[0;34m)\u001b[0m\u001b[0;34m\u001b[0m\u001b[0;34m\u001b[0m\u001b[0m\n\u001b[0m\u001b[1;32m    598\u001b[0m     \u001b[0;32mexcept\u001b[0m \u001b[0mPydanticUndefinedAnnotation\u001b[0m \u001b[0;32mas\u001b[0m \u001b[0me\u001b[0m\u001b[0;34m:\u001b[0m\u001b[0;34m\u001b[0m\u001b[0;34m\u001b[0m\u001b[0m\n\u001b[1;32m    599\u001b[0m         \u001b[0;32mif\u001b[0m \u001b[0mraise_errors\u001b[0m\u001b[0;34m:\u001b[0m\u001b[0;34m\u001b[0m\u001b[0;34m\u001b[0m\u001b[0m\n",
            "\u001b[0;32m/usr/local/lib/python3.11/dist-packages/pydantic/_internal/_generate_schema.py\u001b[0m in \u001b[0;36mgenerate_schema\u001b[0;34m(self, obj)\u001b[0m\n\u001b[1;32m    704\u001b[0m \u001b[0;34m\u001b[0m\u001b[0m\n\u001b[1;32m    705\u001b[0m         \u001b[0;32mif\u001b[0m \u001b[0mschema\u001b[0m \u001b[0;32mis\u001b[0m \u001b[0;32mNone\u001b[0m\u001b[0;34m:\u001b[0m\u001b[0;34m\u001b[0m\u001b[0;34m\u001b[0m\u001b[0m\n\u001b[0;32m--> 706\u001b[0;31m             \u001b[0mschema\u001b[0m \u001b[0;34m=\u001b[0m \u001b[0mself\u001b[0m\u001b[0;34m.\u001b[0m\u001b[0m_generate_schema_inner\u001b[0m\u001b[0;34m(\u001b[0m\u001b[0mobj\u001b[0m\u001b[0;34m)\u001b[0m\u001b[0;34m\u001b[0m\u001b[0;34m\u001b[0m\u001b[0m\n\u001b[0m\u001b[1;32m    707\u001b[0m \u001b[0;34m\u001b[0m\u001b[0m\n\u001b[1;32m    708\u001b[0m         \u001b[0mmetadata_js_function\u001b[0m \u001b[0;34m=\u001b[0m \u001b[0m_extract_get_pydantic_json_schema\u001b[0m\u001b[0;34m(\u001b[0m\u001b[0mobj\u001b[0m\u001b[0;34m)\u001b[0m\u001b[0;34m\u001b[0m\u001b[0;34m\u001b[0m\u001b[0m\n",
            "\u001b[0;32m/usr/local/lib/python3.11/dist-packages/pydantic/_internal/_generate_schema.py\u001b[0m in \u001b[0;36m_generate_schema_inner\u001b[0;34m(self, obj)\u001b[0m\n\u001b[1;32m    982\u001b[0m         \u001b[0;32mif\u001b[0m \u001b[0mlenient_issubclass\u001b[0m\u001b[0;34m(\u001b[0m\u001b[0mobj\u001b[0m\u001b[0;34m,\u001b[0m \u001b[0mBaseModel\u001b[0m\u001b[0;34m)\u001b[0m\u001b[0;34m:\u001b[0m\u001b[0;34m\u001b[0m\u001b[0;34m\u001b[0m\u001b[0m\n\u001b[1;32m    983\u001b[0m             \u001b[0;32mwith\u001b[0m \u001b[0mself\u001b[0m\u001b[0;34m.\u001b[0m\u001b[0mmodel_type_stack\u001b[0m\u001b[0;34m.\u001b[0m\u001b[0mpush\u001b[0m\u001b[0;34m(\u001b[0m\u001b[0mobj\u001b[0m\u001b[0;34m)\u001b[0m\u001b[0;34m:\u001b[0m\u001b[0;34m\u001b[0m\u001b[0;34m\u001b[0m\u001b[0m\n\u001b[0;32m--> 984\u001b[0;31m                 \u001b[0;32mreturn\u001b[0m \u001b[0mself\u001b[0m\u001b[0;34m.\u001b[0m\u001b[0m_model_schema\u001b[0m\u001b[0;34m(\u001b[0m\u001b[0mobj\u001b[0m\u001b[0;34m)\u001b[0m\u001b[0;34m\u001b[0m\u001b[0;34m\u001b[0m\u001b[0m\n\u001b[0m\u001b[1;32m    985\u001b[0m \u001b[0;34m\u001b[0m\u001b[0m\n\u001b[1;32m    986\u001b[0m         \u001b[0;32mif\u001b[0m \u001b[0misinstance\u001b[0m\u001b[0;34m(\u001b[0m\u001b[0mobj\u001b[0m\u001b[0;34m,\u001b[0m \u001b[0mPydanticRecursiveRef\u001b[0m\u001b[0;34m)\u001b[0m\u001b[0;34m:\u001b[0m\u001b[0;34m\u001b[0m\u001b[0;34m\u001b[0m\u001b[0m\n",
            "\u001b[0;32m/usr/local/lib/python3.11/dist-packages/pydantic/_internal/_generate_schema.py\u001b[0m in \u001b[0;36m_model_schema\u001b[0;34m(self, cls)\u001b[0m\n\u001b[1;32m    815\u001b[0m                 \u001b[0;32melse\u001b[0m\u001b[0;34m:\u001b[0m\u001b[0;34m\u001b[0m\u001b[0;34m\u001b[0m\u001b[0m\n\u001b[1;32m    816\u001b[0m                     fields_schema: core_schema.CoreSchema = core_schema.model_fields_schema(\n\u001b[0;32m--> 817\u001b[0;31m                         \u001b[0;34m{\u001b[0m\u001b[0mk\u001b[0m\u001b[0;34m:\u001b[0m \u001b[0mself\u001b[0m\u001b[0;34m.\u001b[0m\u001b[0m_generate_md_field_schema\u001b[0m\u001b[0;34m(\u001b[0m\u001b[0mk\u001b[0m\u001b[0;34m,\u001b[0m \u001b[0mv\u001b[0m\u001b[0;34m,\u001b[0m \u001b[0mdecorators\u001b[0m\u001b[0;34m)\u001b[0m \u001b[0;32mfor\u001b[0m \u001b[0mk\u001b[0m\u001b[0;34m,\u001b[0m \u001b[0mv\u001b[0m \u001b[0;32min\u001b[0m \u001b[0mfields\u001b[0m\u001b[0;34m.\u001b[0m\u001b[0mitems\u001b[0m\u001b[0;34m(\u001b[0m\u001b[0;34m)\u001b[0m\u001b[0;34m}\u001b[0m\u001b[0;34m,\u001b[0m\u001b[0;34m\u001b[0m\u001b[0;34m\u001b[0m\u001b[0m\n\u001b[0m\u001b[1;32m    818\u001b[0m                         computed_fields=[\n\u001b[1;32m    819\u001b[0m                             \u001b[0mself\u001b[0m\u001b[0;34m.\u001b[0m\u001b[0m_computed_field_schema\u001b[0m\u001b[0;34m(\u001b[0m\u001b[0md\u001b[0m\u001b[0;34m,\u001b[0m \u001b[0mdecorators\u001b[0m\u001b[0;34m.\u001b[0m\u001b[0mfield_serializers\u001b[0m\u001b[0;34m)\u001b[0m\u001b[0;34m\u001b[0m\u001b[0;34m\u001b[0m\u001b[0m\n",
            "\u001b[0;32m/usr/local/lib/python3.11/dist-packages/pydantic/_internal/_generate_schema.py\u001b[0m in \u001b[0;36m<dictcomp>\u001b[0;34m(.0)\u001b[0m\n\u001b[1;32m    815\u001b[0m                 \u001b[0;32melse\u001b[0m\u001b[0;34m:\u001b[0m\u001b[0;34m\u001b[0m\u001b[0;34m\u001b[0m\u001b[0m\n\u001b[1;32m    816\u001b[0m                     fields_schema: core_schema.CoreSchema = core_schema.model_fields_schema(\n\u001b[0;32m--> 817\u001b[0;31m                         \u001b[0;34m{\u001b[0m\u001b[0mk\u001b[0m\u001b[0;34m:\u001b[0m \u001b[0mself\u001b[0m\u001b[0;34m.\u001b[0m\u001b[0m_generate_md_field_schema\u001b[0m\u001b[0;34m(\u001b[0m\u001b[0mk\u001b[0m\u001b[0;34m,\u001b[0m \u001b[0mv\u001b[0m\u001b[0;34m,\u001b[0m \u001b[0mdecorators\u001b[0m\u001b[0;34m)\u001b[0m \u001b[0;32mfor\u001b[0m \u001b[0mk\u001b[0m\u001b[0;34m,\u001b[0m \u001b[0mv\u001b[0m \u001b[0;32min\u001b[0m \u001b[0mfields\u001b[0m\u001b[0;34m.\u001b[0m\u001b[0mitems\u001b[0m\u001b[0;34m(\u001b[0m\u001b[0;34m)\u001b[0m\u001b[0;34m}\u001b[0m\u001b[0;34m,\u001b[0m\u001b[0;34m\u001b[0m\u001b[0;34m\u001b[0m\u001b[0m\n\u001b[0m\u001b[1;32m    818\u001b[0m                         computed_fields=[\n\u001b[1;32m    819\u001b[0m                             \u001b[0mself\u001b[0m\u001b[0;34m.\u001b[0m\u001b[0m_computed_field_schema\u001b[0m\u001b[0;34m(\u001b[0m\u001b[0md\u001b[0m\u001b[0;34m,\u001b[0m \u001b[0mdecorators\u001b[0m\u001b[0;34m.\u001b[0m\u001b[0mfield_serializers\u001b[0m\u001b[0;34m)\u001b[0m\u001b[0;34m\u001b[0m\u001b[0;34m\u001b[0m\u001b[0m\n",
            "\u001b[0;32m/usr/local/lib/python3.11/dist-packages/pydantic/_internal/_generate_schema.py\u001b[0m in \u001b[0;36m_generate_md_field_schema\u001b[0;34m(self, name, field_info, decorators)\u001b[0m\n\u001b[1;32m   1184\u001b[0m     ) -> core_schema.ModelField:\n\u001b[1;32m   1185\u001b[0m         \u001b[0;34m\"\"\"Prepare a ModelField to represent a model field.\"\"\"\u001b[0m\u001b[0;34m\u001b[0m\u001b[0;34m\u001b[0m\u001b[0m\n\u001b[0;32m-> 1186\u001b[0;31m         \u001b[0mcommon_field\u001b[0m \u001b[0;34m=\u001b[0m \u001b[0mself\u001b[0m\u001b[0;34m.\u001b[0m\u001b[0m_common_field_schema\u001b[0m\u001b[0;34m(\u001b[0m\u001b[0mname\u001b[0m\u001b[0;34m,\u001b[0m \u001b[0mfield_info\u001b[0m\u001b[0;34m,\u001b[0m \u001b[0mdecorators\u001b[0m\u001b[0;34m)\u001b[0m\u001b[0;34m\u001b[0m\u001b[0;34m\u001b[0m\u001b[0m\n\u001b[0m\u001b[1;32m   1187\u001b[0m         return core_schema.model_field(\n\u001b[1;32m   1188\u001b[0m             \u001b[0mcommon_field\u001b[0m\u001b[0;34m[\u001b[0m\u001b[0;34m'schema'\u001b[0m\u001b[0;34m]\u001b[0m\u001b[0;34m,\u001b[0m\u001b[0;34m\u001b[0m\u001b[0;34m\u001b[0m\u001b[0m\n",
            "\u001b[0;32m/usr/local/lib/python3.11/dist-packages/pydantic/_internal/_generate_schema.py\u001b[0m in \u001b[0;36m_common_field_schema\u001b[0;34m(self, name, field_info, decorators)\u001b[0m\n\u001b[1;32m   1350\u001b[0m                 )\n\u001b[1;32m   1351\u001b[0m             \u001b[0;32melse\u001b[0m\u001b[0;34m:\u001b[0m\u001b[0;34m\u001b[0m\u001b[0;34m\u001b[0m\u001b[0m\n\u001b[0;32m-> 1352\u001b[0;31m                 schema = self._apply_annotations(\n\u001b[0m\u001b[1;32m   1353\u001b[0m                     \u001b[0msource_type\u001b[0m\u001b[0;34m,\u001b[0m\u001b[0;34m\u001b[0m\u001b[0;34m\u001b[0m\u001b[0m\n\u001b[1;32m   1354\u001b[0m                     \u001b[0mannotations\u001b[0m \u001b[0;34m+\u001b[0m \u001b[0mvalidators_from_decorators\u001b[0m\u001b[0;34m,\u001b[0m\u001b[0;34m\u001b[0m\u001b[0;34m\u001b[0m\u001b[0m\n",
            "\u001b[0;32m/usr/local/lib/python3.11/dist-packages/pydantic/_internal/_generate_schema.py\u001b[0m in \u001b[0;36m_apply_annotations\u001b[0;34m(self, source_type, annotations, transform_inner_schema)\u001b[0m\n\u001b[1;32m   2262\u001b[0m             )\n\u001b[1;32m   2263\u001b[0m \u001b[0;34m\u001b[0m\u001b[0m\n\u001b[0;32m-> 2264\u001b[0;31m         \u001b[0mschema\u001b[0m \u001b[0;34m=\u001b[0m \u001b[0mget_inner_schema\u001b[0m\u001b[0;34m(\u001b[0m\u001b[0msource_type\u001b[0m\u001b[0;34m)\u001b[0m\u001b[0;34m\u001b[0m\u001b[0;34m\u001b[0m\u001b[0m\n\u001b[0m\u001b[1;32m   2265\u001b[0m         \u001b[0;32mif\u001b[0m \u001b[0mpydantic_js_annotation_functions\u001b[0m\u001b[0;34m:\u001b[0m\u001b[0;34m\u001b[0m\u001b[0;34m\u001b[0m\u001b[0m\n\u001b[1;32m   2266\u001b[0m             \u001b[0mcore_metadata\u001b[0m \u001b[0;34m=\u001b[0m \u001b[0mschema\u001b[0m\u001b[0;34m.\u001b[0m\u001b[0msetdefault\u001b[0m\u001b[0;34m(\u001b[0m\u001b[0;34m'metadata'\u001b[0m\u001b[0;34m,\u001b[0m \u001b[0;34m{\u001b[0m\u001b[0;34m}\u001b[0m\u001b[0;34m)\u001b[0m\u001b[0;34m\u001b[0m\u001b[0;34m\u001b[0m\u001b[0m\n",
            "\u001b[0;32m/usr/local/lib/python3.11/dist-packages/pydantic/_internal/_schema_generation_shared.py\u001b[0m in \u001b[0;36m__call__\u001b[0;34m(self, source_type)\u001b[0m\n\u001b[1;32m     81\u001b[0m \u001b[0;34m\u001b[0m\u001b[0m\n\u001b[1;32m     82\u001b[0m     \u001b[0;32mdef\u001b[0m \u001b[0m__call__\u001b[0m\u001b[0;34m(\u001b[0m\u001b[0mself\u001b[0m\u001b[0;34m,\u001b[0m \u001b[0msource_type\u001b[0m\u001b[0;34m:\u001b[0m \u001b[0mAny\u001b[0m\u001b[0;34m,\u001b[0m \u001b[0;34m/\u001b[0m\u001b[0;34m)\u001b[0m \u001b[0;34m->\u001b[0m \u001b[0mcore_schema\u001b[0m\u001b[0;34m.\u001b[0m\u001b[0mCoreSchema\u001b[0m\u001b[0;34m:\u001b[0m\u001b[0;34m\u001b[0m\u001b[0;34m\u001b[0m\u001b[0m\n\u001b[0;32m---> 83\u001b[0;31m         \u001b[0mschema\u001b[0m \u001b[0;34m=\u001b[0m \u001b[0mself\u001b[0m\u001b[0;34m.\u001b[0m\u001b[0m_handler\u001b[0m\u001b[0;34m(\u001b[0m\u001b[0msource_type\u001b[0m\u001b[0;34m)\u001b[0m\u001b[0;34m\u001b[0m\u001b[0;34m\u001b[0m\u001b[0m\n\u001b[0m\u001b[1;32m     84\u001b[0m         \u001b[0;32mif\u001b[0m \u001b[0mself\u001b[0m\u001b[0;34m.\u001b[0m\u001b[0m_ref_mode\u001b[0m \u001b[0;34m==\u001b[0m \u001b[0;34m'to-def'\u001b[0m\u001b[0;34m:\u001b[0m\u001b[0;34m\u001b[0m\u001b[0;34m\u001b[0m\u001b[0m\n\u001b[1;32m     85\u001b[0m             \u001b[0mref\u001b[0m \u001b[0;34m=\u001b[0m \u001b[0mschema\u001b[0m\u001b[0;34m.\u001b[0m\u001b[0mget\u001b[0m\u001b[0;34m(\u001b[0m\u001b[0;34m'ref'\u001b[0m\u001b[0;34m)\u001b[0m\u001b[0;34m\u001b[0m\u001b[0;34m\u001b[0m\u001b[0m\n",
            "\u001b[0;32m/usr/local/lib/python3.11/dist-packages/pydantic/_internal/_generate_schema.py\u001b[0m in \u001b[0;36minner_handler\u001b[0;34m(obj)\u001b[0m\n\u001b[1;32m   2241\u001b[0m \u001b[0;34m\u001b[0m\u001b[0m\n\u001b[1;32m   2242\u001b[0m         \u001b[0;32mdef\u001b[0m \u001b[0minner_handler\u001b[0m\u001b[0;34m(\u001b[0m\u001b[0mobj\u001b[0m\u001b[0;34m:\u001b[0m \u001b[0mAny\u001b[0m\u001b[0;34m)\u001b[0m \u001b[0;34m->\u001b[0m \u001b[0mCoreSchema\u001b[0m\u001b[0;34m:\u001b[0m\u001b[0;34m\u001b[0m\u001b[0;34m\u001b[0m\u001b[0m\n\u001b[0;32m-> 2243\u001b[0;31m             \u001b[0mschema\u001b[0m \u001b[0;34m=\u001b[0m \u001b[0mself\u001b[0m\u001b[0;34m.\u001b[0m\u001b[0m_generate_schema_from_get_schema_method\u001b[0m\u001b[0;34m(\u001b[0m\u001b[0mobj\u001b[0m\u001b[0;34m,\u001b[0m \u001b[0msource_type\u001b[0m\u001b[0;34m)\u001b[0m\u001b[0;34m\u001b[0m\u001b[0;34m\u001b[0m\u001b[0m\n\u001b[0m\u001b[1;32m   2244\u001b[0m \u001b[0;34m\u001b[0m\u001b[0m\n\u001b[1;32m   2245\u001b[0m             \u001b[0;32mif\u001b[0m \u001b[0mschema\u001b[0m \u001b[0;32mis\u001b[0m \u001b[0;32mNone\u001b[0m\u001b[0;34m:\u001b[0m\u001b[0;34m\u001b[0m\u001b[0;34m\u001b[0m\u001b[0m\n",
            "\u001b[0;32m/usr/local/lib/python3.11/dist-packages/pydantic/_internal/_generate_schema.py\u001b[0m in \u001b[0;36m_generate_schema_from_get_schema_method\u001b[0;34m(self, obj, source)\u001b[0m\n\u001b[1;32m    878\u001b[0m             \u001b[0;32melse\u001b[0m\u001b[0;34m:\u001b[0m\u001b[0;34m\u001b[0m\u001b[0;34m\u001b[0m\u001b[0m\n\u001b[1;32m    879\u001b[0m                 \u001b[0mref_mode\u001b[0m \u001b[0;34m=\u001b[0m \u001b[0;34m'to-def'\u001b[0m\u001b[0;34m\u001b[0m\u001b[0;34m\u001b[0m\u001b[0m\n\u001b[0;32m--> 880\u001b[0;31m             schema = get_schema(\n\u001b[0m\u001b[1;32m    881\u001b[0m                 \u001b[0msource\u001b[0m\u001b[0;34m,\u001b[0m \u001b[0mCallbackGetCoreSchemaHandler\u001b[0m\u001b[0;34m(\u001b[0m\u001b[0mself\u001b[0m\u001b[0;34m.\u001b[0m\u001b[0m_generate_schema_inner\u001b[0m\u001b[0;34m,\u001b[0m \u001b[0mself\u001b[0m\u001b[0;34m,\u001b[0m \u001b[0mref_mode\u001b[0m\u001b[0;34m=\u001b[0m\u001b[0mref_mode\u001b[0m\u001b[0;34m)\u001b[0m\u001b[0;34m\u001b[0m\u001b[0;34m\u001b[0m\u001b[0m\n\u001b[1;32m    882\u001b[0m             )\n",
            "\u001b[0;32m/usr/local/lib/python3.11/dist-packages/pydantic/networks.py\u001b[0m in \u001b[0;36m__get_pydantic_core_schema__\u001b[0;34m(cls, _source, _handler)\u001b[0m\n\u001b[1;32m    984\u001b[0m             \u001b[0m_handler\u001b[0m\u001b[0;34m:\u001b[0m \u001b[0mGetCoreSchemaHandler\u001b[0m\u001b[0;34m,\u001b[0m\u001b[0;34m\u001b[0m\u001b[0;34m\u001b[0m\u001b[0m\n\u001b[1;32m    985\u001b[0m         ) -> core_schema.CoreSchema:\n\u001b[0;32m--> 986\u001b[0;31m             \u001b[0mimport_email_validator\u001b[0m\u001b[0;34m(\u001b[0m\u001b[0;34m)\u001b[0m\u001b[0;34m\u001b[0m\u001b[0;34m\u001b[0m\u001b[0m\n\u001b[0m\u001b[1;32m    987\u001b[0m             \u001b[0;32mreturn\u001b[0m \u001b[0mcore_schema\u001b[0m\u001b[0;34m.\u001b[0m\u001b[0mno_info_after_validator_function\u001b[0m\u001b[0;34m(\u001b[0m\u001b[0mcls\u001b[0m\u001b[0;34m.\u001b[0m\u001b[0m_validate\u001b[0m\u001b[0;34m,\u001b[0m \u001b[0mcore_schema\u001b[0m\u001b[0;34m.\u001b[0m\u001b[0mstr_schema\u001b[0m\u001b[0;34m(\u001b[0m\u001b[0;34m)\u001b[0m\u001b[0;34m)\u001b[0m\u001b[0;34m\u001b[0m\u001b[0;34m\u001b[0m\u001b[0m\n\u001b[1;32m    988\u001b[0m \u001b[0;34m\u001b[0m\u001b[0m\n",
            "\u001b[0;32m/usr/local/lib/python3.11/dist-packages/pydantic/networks.py\u001b[0m in \u001b[0;36mimport_email_validator\u001b[0;34m()\u001b[0m\n\u001b[1;32m    946\u001b[0m         \u001b[0;32mimport\u001b[0m \u001b[0memail_validator\u001b[0m\u001b[0;34m\u001b[0m\u001b[0;34m\u001b[0m\u001b[0m\n\u001b[1;32m    947\u001b[0m     \u001b[0;32mexcept\u001b[0m \u001b[0mImportError\u001b[0m \u001b[0;32mas\u001b[0m \u001b[0me\u001b[0m\u001b[0;34m:\u001b[0m\u001b[0;34m\u001b[0m\u001b[0;34m\u001b[0m\u001b[0m\n\u001b[0;32m--> 948\u001b[0;31m         \u001b[0;32mraise\u001b[0m \u001b[0mImportError\u001b[0m\u001b[0;34m(\u001b[0m\u001b[0;34m'email-validator is not installed, run `pip install pydantic[email]`'\u001b[0m\u001b[0;34m)\u001b[0m \u001b[0;32mfrom\u001b[0m \u001b[0me\u001b[0m\u001b[0;34m\u001b[0m\u001b[0;34m\u001b[0m\u001b[0m\n\u001b[0m\u001b[1;32m    949\u001b[0m     \u001b[0;32mif\u001b[0m \u001b[0;32mnot\u001b[0m \u001b[0mversion\u001b[0m\u001b[0;34m(\u001b[0m\u001b[0;34m'email-validator'\u001b[0m\u001b[0;34m)\u001b[0m\u001b[0;34m.\u001b[0m\u001b[0mpartition\u001b[0m\u001b[0;34m(\u001b[0m\u001b[0;34m'.'\u001b[0m\u001b[0;34m)\u001b[0m\u001b[0;34m[\u001b[0m\u001b[0;36m0\u001b[0m\u001b[0;34m]\u001b[0m \u001b[0;34m==\u001b[0m \u001b[0;34m'2'\u001b[0m\u001b[0;34m:\u001b[0m\u001b[0;34m\u001b[0m\u001b[0;34m\u001b[0m\u001b[0m\n\u001b[1;32m    950\u001b[0m         \u001b[0;32mraise\u001b[0m \u001b[0mImportError\u001b[0m\u001b[0;34m(\u001b[0m\u001b[0;34m'email-validator version >= 2.0 required, run pip install -U email-validator'\u001b[0m\u001b[0;34m)\u001b[0m\u001b[0;34m\u001b[0m\u001b[0;34m\u001b[0m\u001b[0m\n",
            "\u001b[0;31mImportError\u001b[0m: email-validator is not installed, run `pip install pydantic[email]`",
            "",
            "\u001b[0;31m---------------------------------------------------------------------------\u001b[0;32m\nNOTE: If your import is failing due to a missing package, you can\nmanually install dependencies using either !pip or !apt.\n\nTo view examples of installing some common dependencies, click the\n\"Open Examples\" button below.\n\u001b[0;31m---------------------------------------------------------------------------\u001b[0m\n"
          ]
        }
      ],
      "source": [
        "from pydantic import BaseModel, EmailStr\n",
        "\n",
        "class User(BaseModel):\n",
        "    name: str\n",
        "    email: EmailStr     # pip install pydantic[email]\n",
        "    account_id: int\n",
        "\n",
        "# It will fail and show a validation error with email = 'ali'\n",
        "user = User(name = 'Ali', email = 'ali', account_id = 1234)\n",
        "print(user)"
      ]
    },
    {
      "cell_type": "markdown",
      "metadata": {
        "id": "wt2gqlnbrIfk"
      },
      "source": [
        "# ex11\n",
        "Ce code définit un validateur de champ pour l'attribut account_id qui vérifie si la valeur est positive, et lève une erreur ValueError si ce n'est pas le cas."
      ]
    },
    {
      "cell_type": "code",
      "execution_count": null,
      "metadata": {
        "colab": {
          "base_uri": "https://localhost:8080/",
          "height": 211
        },
        "id": "AT9e88_DrLiZ",
        "outputId": "c82f6d84-d075-476b-c1be-f7a3d7788479"
      },
      "outputs": [
        {
          "ename": "NameError",
          "evalue": "name 'field_validator' is not defined",
          "output_type": "error",
          "traceback": [
            "\u001b[0;31m---------------------------------------------------------------------------\u001b[0m",
            "\u001b[0;31mNameError\u001b[0m                                 Traceback (most recent call last)",
            "\u001b[0;32m<ipython-input-16-3939543e0d5d>\u001b[0m in \u001b[0;36m<cell line: 0>\u001b[0;34m()\u001b[0m\n\u001b[0;32m----> 1\u001b[0;31m \u001b[0;34m@\u001b[0m\u001b[0mfield_validator\u001b[0m\u001b[0;34m(\u001b[0m\u001b[0;34m\"account_id\"\u001b[0m\u001b[0;34m)\u001b[0m\u001b[0;34m\u001b[0m\u001b[0;34m\u001b[0m\u001b[0m\n\u001b[0m\u001b[1;32m      2\u001b[0m \u001b[0;32mdef\u001b[0m \u001b[0mvalidate_account_id\u001b[0m\u001b[0;34m(\u001b[0m\u001b[0mcls\u001b[0m\u001b[0;34m,\u001b[0m \u001b[0mvalue\u001b[0m\u001b[0;34m)\u001b[0m\u001b[0;34m:\u001b[0m\u001b[0;34m\u001b[0m\u001b[0;34m\u001b[0m\u001b[0m\n\u001b[1;32m      3\u001b[0m     \u001b[0;32mif\u001b[0m \u001b[0mvalue\u001b[0m \u001b[0;34m<=\u001b[0m \u001b[0;36m0\u001b[0m\u001b[0;34m:\u001b[0m\u001b[0;34m\u001b[0m\u001b[0;34m\u001b[0m\u001b[0m\n\u001b[1;32m      4\u001b[0m         \u001b[0;32mraise\u001b[0m \u001b[0mValueError\u001b[0m\u001b[0;34m(\u001b[0m\u001b[0;34mf\"account_id must be positive: {value}\"\u001b[0m\u001b[0;34m)\u001b[0m\u001b[0;34m\u001b[0m\u001b[0;34m\u001b[0m\u001b[0m\n\u001b[1;32m      5\u001b[0m     \u001b[0;32mreturn\u001b[0m \u001b[0mvalue\u001b[0m\u001b[0;34m\u001b[0m\u001b[0;34m\u001b[0m\u001b[0m\n",
            "\u001b[0;31mNameError\u001b[0m: name 'field_validator' is not defined"
          ]
        }
      ],
      "source": [
        "@field_validator(\"account_id\")\n",
        "def validate_account_id(cls, value):\n",
        "    if value <= 0:\n",
        "        raise ValueError(f\"account_id must be positive: {value}\")\n",
        "    return value"
      ]
    },
    {
      "cell_type": "markdown",
      "metadata": {
        "id": "i1JH4UKHr3wn"
      },
      "source": [
        "# ex12\n",
        "Ce code essaiera de créer un utilisateur avec un account_id négatif, ce qui provoquera une erreur de validation car un validateur exige que account_id soit positif."
      ]
    },
    {
      "cell_type": "code",
      "execution_count": null,
      "metadata": {
        "colab": {
          "base_uri": "https://localhost:8080/"
        },
        "id": "WB70DFExsFwt",
        "outputId": "777e69cb-1478-4251-d88f-834207a76993"
      },
      "outputs": [
        {
          "name": "stdout",
          "output_type": "stream",
          "text": [
            "name='Ali' email='ali' account_id=-12\n"
          ]
        }
      ],
      "source": [
        "# you will get a validation error with account_id = -12\n",
        "user = User(name = 'Ali', email = 'ali', account_id = -12)\n",
        "print(user)"
      ]
    },
    {
      "cell_type": "markdown",
      "metadata": {
        "id": "bniLpimkvelF"
      },
      "source": [
        "### JSON Serialization"
      ]
    },
    {
      "cell_type": "markdown",
      "metadata": {
        "id": "JXapmpHZsdD8"
      },
      "source": [
        "## ex13\n",
        "Ce code transforme les informations de l'utilisateur en un texte au format JSON, un peu comme un code secret pour les données, et l'affiche."
      ]
    },
    {
      "cell_type": "code",
      "execution_count": null,
      "metadata": {
        "colab": {
          "base_uri": "https://localhost:8080/"
        },
        "id": "nfxXhOVCsiEy",
        "outputId": "741088a6-1da5-4699-d45d-214b219cc199"
      },
      "outputs": [
        {
          "name": "stdout",
          "output_type": "stream",
          "text": [
            "{\"name\":\"Ali\",\"email\":\"ali\",\"account_id\":-12}\n"
          ]
        }
      ],
      "source": [
        "user_json_str = user.model_dump_json()\n",
        "# this will return a JSON strinf representation of the model's data\n",
        "print(user_json_str)"
      ]
    },
    {
      "cell_type": "markdown",
      "metadata": {
        "id": "WA2l3q_OtCKH"
      },
      "source": []
    },
    {
      "cell_type": "markdown",
      "metadata": {
        "id": "8sXLOlT-oEzO"
      },
      "source": [
        "# ex14\n",
        "Le code va générer une erreur car il essaie de créer un utilisateur avec un identifiant de compte négatif, ce qui est interdit par les règles."
      ]
    },
    {
      "cell_type": "code",
      "execution_count": null,
      "metadata": {
        "colab": {
          "base_uri": "https://localhost:8080/",
          "height": 176
        },
        "id": "s5maArVtoGvP",
        "outputId": "227ca6bc-fc73-4d4d-84ae-f9e6857edef3"
      },
      "outputs": [
        {
          "ename": "NameError",
          "evalue": "name 'User' is not defined",
          "output_type": "error",
          "traceback": [
            "\u001b[0;31m---------------------------------------------------------------------------\u001b[0m",
            "\u001b[0;31mNameError\u001b[0m                                 Traceback (most recent call last)",
            "\u001b[0;32m<ipython-input-1-2fb69e9ec8b5>\u001b[0m in \u001b[0;36m<cell line: 0>\u001b[0;34m()\u001b[0m\n\u001b[1;32m      1\u001b[0m \u001b[0;31m# you will get a validation error with account_id = -12\u001b[0m\u001b[0;34m\u001b[0m\u001b[0;34m\u001b[0m\u001b[0m\n\u001b[0;32m----> 2\u001b[0;31m \u001b[0muser\u001b[0m \u001b[0;34m=\u001b[0m \u001b[0mUser\u001b[0m\u001b[0;34m(\u001b[0m\u001b[0mname\u001b[0m \u001b[0;34m=\u001b[0m \u001b[0;34m'Ali'\u001b[0m\u001b[0;34m,\u001b[0m \u001b[0memail\u001b[0m \u001b[0;34m=\u001b[0m \u001b[0;34m'ali'\u001b[0m\u001b[0;34m,\u001b[0m \u001b[0maccount_id\u001b[0m \u001b[0;34m=\u001b[0m \u001b[0;34m-\u001b[0m\u001b[0;36m12\u001b[0m\u001b[0;34m)\u001b[0m\u001b[0;34m\u001b[0m\u001b[0;34m\u001b[0m\u001b[0m\n\u001b[0m\u001b[1;32m      3\u001b[0m \u001b[0mprint\u001b[0m\u001b[0;34m(\u001b[0m\u001b[0muser\u001b[0m\u001b[0;34m)\u001b[0m\u001b[0;34m\u001b[0m\u001b[0;34m\u001b[0m\u001b[0m\n",
            "\u001b[0;31mNameError\u001b[0m: name 'User' is not defined"
          ]
        }
      ],
      "source": [
        "# you will get a validation error with account_id = -12\n",
        "user = User(name = 'Ali', email = 'ali', account_id = -12)\n",
        "print(user)"
      ]
    },
    {
      "cell_type": "markdown",
      "metadata": {
        "id": "t9Om-1_0ojQ3"
      },
      "source": [
        "## ex15\n",
        "Ce code transforme les informations de l'utilisateur en un texte au format JSON, un peu comme un code secret pour les données, et l'affiche."
      ]
    },
    {
      "cell_type": "code",
      "execution_count": null,
      "metadata": {
        "colab": {
          "base_uri": "https://localhost:8080/",
          "height": 176
        },
        "id": "fDbPj9oqoy_F",
        "outputId": "708f9138-c422-4b5b-e1d5-a3b2ca329381"
      },
      "outputs": [
        {
          "ename": "NameError",
          "evalue": "name 'user' is not defined",
          "output_type": "error",
          "traceback": [
            "\u001b[0;31m---------------------------------------------------------------------------\u001b[0m",
            "\u001b[0;31mNameError\u001b[0m                                 Traceback (most recent call last)",
            "\u001b[0;32m<ipython-input-2-83da6dbf92ec>\u001b[0m in \u001b[0;36m<cell line: 0>\u001b[0;34m()\u001b[0m\n\u001b[0;32m----> 1\u001b[0;31m \u001b[0muser_json_str\u001b[0m \u001b[0;34m=\u001b[0m \u001b[0muser\u001b[0m\u001b[0;34m.\u001b[0m\u001b[0mmodel_dump_json\u001b[0m\u001b[0;34m(\u001b[0m\u001b[0;34m)\u001b[0m\u001b[0;34m\u001b[0m\u001b[0;34m\u001b[0m\u001b[0m\n\u001b[0m\u001b[1;32m      2\u001b[0m \u001b[0;31m# this will return a JSON strinf representation of the model's data\u001b[0m\u001b[0;34m\u001b[0m\u001b[0;34m\u001b[0m\u001b[0m\n\u001b[1;32m      3\u001b[0m \u001b[0mprint\u001b[0m\u001b[0;34m(\u001b[0m\u001b[0muser_json_str\u001b[0m\u001b[0;34m)\u001b[0m\u001b[0;34m\u001b[0m\u001b[0;34m\u001b[0m\u001b[0m\n",
            "\u001b[0;31mNameError\u001b[0m: name 'user' is not defined"
          ]
        }
      ],
      "source": [
        "user_json_str = user.model_dump_json()\n",
        "# this will return a JSON strinf representation of the model's data\n",
        "print(user_json_str)"
      ]
    },
    {
      "cell_type": "markdown",
      "metadata": {
        "id": "U0vijjj9pIUO"
      },
      "source": [
        "# ex16\n",
        "Ce code représente des informations sur un utilisateur nommé \"Ali\", avec son email et son identifiant de compte, sous forme de données structurées."
      ]
    },
    {
      "cell_type": "code",
      "execution_count": null,
      "metadata": {
        "colab": {
          "base_uri": "https://localhost:8080/",
          "height": 106
        },
        "id": "vCrAyF_ZpSUf",
        "outputId": "960f46f1-4371-4756-f231-35c62d27b32c"
      },
      "outputs": [
        {
          "ename": "SyntaxError",
          "evalue": "unterminated string literal (detected at line 1) (<ipython-input-3-97fc2dddc755>, line 1)",
          "output_type": "error",
          "traceback": [
            "\u001b[0;36m  File \u001b[0;32m\"<ipython-input-3-97fc2dddc755>\"\u001b[0;36m, line \u001b[0;32m1\u001b[0m\n\u001b[0;31m    {\"name\": \"Ali, \"email\": \"ali@gmail.com\", \"account_id\": 1234}\u001b[0m\n\u001b[0m                                                        ^\u001b[0m\n\u001b[0;31mSyntaxError\u001b[0m\u001b[0;31m:\u001b[0m unterminated string literal (detected at line 1)\n"
          ]
        }
      ],
      "source": [
        "{\"name\": \"Ali, \"email\": \"ali@gmail.com\", \"account_id\": 1234}"
      ]
    },
    {
      "cell_type": "markdown",
      "metadata": {
        "id": "zuR4l9Bspr_J"
      },
      "source": [
        "# ex17\n",
        "Ce code transforme les informations de l'utilisateur en un format utilisable par Python, comme un dictionnaire."
      ]
    },
    {
      "cell_type": "code",
      "execution_count": null,
      "metadata": {
        "colab": {
          "base_uri": "https://localhost:8080/",
          "height": 141
        },
        "id": "drjtpbTkpzcj",
        "outputId": "03e07a44-6687-4c71-945b-e967fe12898d"
      },
      "outputs": [
        {
          "ename": "NameError",
          "evalue": "name 'user' is not defined",
          "output_type": "error",
          "traceback": [
            "\u001b[0;31m---------------------------------------------------------------------------\u001b[0m",
            "\u001b[0;31mNameError\u001b[0m                                 Traceback (most recent call last)",
            "\u001b[0;32m<ipython-input-4-9698a7dbe056>\u001b[0m in \u001b[0;36m<cell line: 0>\u001b[0;34m()\u001b[0m\n\u001b[0;32m----> 1\u001b[0;31m \u001b[0muser_json_obj\u001b[0m \u001b[0;34m=\u001b[0m \u001b[0muser\u001b[0m\u001b[0;34m.\u001b[0m\u001b[0mmodel_dump\u001b[0m\u001b[0;34m(\u001b[0m\u001b[0;34m)\u001b[0m\u001b[0;34m\u001b[0m\u001b[0;34m\u001b[0m\u001b[0m\n\u001b[0m",
            "\u001b[0;31mNameError\u001b[0m: name 'user' is not defined"
          ]
        }
      ],
      "source": [
        "user_json_obj = user.model_dump()"
      ]
    },
    {
      "cell_type": "markdown",
      "metadata": {
        "id": "fbIybWFQqNsL"
      },
      "source": [
        "## ex18\n",
        "Ce code crée un utilisateur à partir de données JSON."
      ]
    },
    {
      "cell_type": "code",
      "execution_count": null,
      "metadata": {
        "colab": {
          "base_uri": "https://localhost:8080/",
          "height": 106
        },
        "id": "BwGR6O3IqUHd",
        "outputId": "f1d12f16-d30f-4af9-8ae1-95276f359ced"
      },
      "outputs": [
        {
          "ename": "SyntaxError",
          "evalue": "unterminated string literal (detected at line 1) (<ipython-input-5-d7ea3321ff1b>, line 1)",
          "output_type": "error",
          "traceback": [
            "\u001b[0;36m  File \u001b[0;32m\"<ipython-input-5-d7ea3321ff1b>\"\u001b[0;36m, line \u001b[0;32m1\u001b[0m\n\u001b[0;31m    json_str = {\"name\": \"Ali, \"email\": \"ali@gmail.com\", \"account_id\": 1234}\u001b[0m\n\u001b[0m                                                                   ^\u001b[0m\n\u001b[0;31mSyntaxError\u001b[0m\u001b[0;31m:\u001b[0m unterminated string literal (detected at line 1)\n"
          ]
        }
      ],
      "source": [
        "json_str = {\"name\": \"Ali, \"email\": \"ali@gmail.com\", \"account_id\": 1234}\n",
        "user = user.parse_raw(json_str)"
      ]
    },
    {
      "cell_type": "markdown",
      "metadata": {
        "id": "zSvcszKbv4U2"
      },
      "source": [
        "## Pydantic vs Dataclasses"
      ]
    },
    {
      "cell_type": "markdown",
      "metadata": {
        "id": "U6T7HBIXq08U"
      },
      "source": [
        "## ex19\n",
        "Ce code définit deux variables, x comme un entier avec la valeur 0 et y comme une chaîne de caractères avec la valeur \"hello\"."
      ]
    },
    {
      "cell_type": "code",
      "execution_count": null,
      "metadata": {
        "id": "9Xb3mvHfrXVQ"
      },
      "outputs": [],
      "source": [
        "# Python 3.6+\n",
        "x: int = 0\n",
        "y: str = \"hello\""
      ]
    },
    {
      "cell_type": "markdown",
      "metadata": {
        "id": "SRARRU_Hto5u"
      },
      "source": [
        "# ex20\n",
        "Ce code définit une structure nommée \"User\" pour stocker des informations sur un utilisateur, comme son nom, son email et son identifiant."
      ]
    },
    {
      "cell_type": "code",
      "execution_count": null,
      "metadata": {
        "id": "6qPfrWRMtsVJ"
      },
      "outputs": [],
      "source": [
        "from dataclasses import dataclass\n",
        "\n",
        "@dataclass\n",
        "class User:\n",
        "    name: str\n",
        "    email: str\n",
        "    account_id: int"
      ]
    },
    {
      "cell_type": "markdown",
      "metadata": {
        "id": "hl-zBa2AwvyZ"
      },
      "source": [
        "# **Requests Tutorial**"
      ]
    },
    {
      "cell_type": "markdown",
      "metadata": {
        "id": "k9B8jOEWxBAt"
      },
      "source": [
        "### GET Request"
      ]
    },
    {
      "cell_type": "markdown",
      "metadata": {
        "id": "qW2hch7q0ZeL"
      },
      "source": [
        "# ex1\n",
        "Ce code installe la librairie \"requests\" qui permet de faire des requêtes HTTP en Python."
      ]
    },
    {
      "cell_type": "code",
      "execution_count": null,
      "metadata": {
        "colab": {
          "base_uri": "https://localhost:8080/"
        },
        "id": "TbgLBYVfxHBB",
        "outputId": "814b9716-36e3-491e-d6e2-9c2dda34ae3f"
      },
      "outputs": [
        {
          "name": "stdout",
          "output_type": "stream",
          "text": [
            "Requirement already satisfied: requests in /usr/local/lib/python3.11/dist-packages (2.32.3)\n",
            "Requirement already satisfied: charset-normalizer<4,>=2 in /usr/local/lib/python3.11/dist-packages (from requests) (3.4.1)\n",
            "Requirement already satisfied: idna<4,>=2.5 in /usr/local/lib/python3.11/dist-packages (from requests) (3.10)\n",
            "Requirement already satisfied: urllib3<3,>=1.21.1 in /usr/local/lib/python3.11/dist-packages (from requests) (2.3.0)\n",
            "Requirement already satisfied: certifi>=2017.4.17 in /usr/local/lib/python3.11/dist-packages (from requests) (2025.1.31)\n"
          ]
        }
      ],
      "source": [
        "pip install requests"
      ]
    },
    {
      "cell_type": "markdown",
      "metadata": {
        "id": "BCFap1aH0ctE"
      },
      "source": [
        "## ex2\n",
        "Ce code récupère le contenu de la page web \"[redacted link]."
      ]
    },
    {
      "cell_type": "code",
      "execution_count": null,
      "metadata": {
        "id": "3VEhPtRe0iLZ"
      },
      "outputs": [],
      "source": [
        "import requests\n",
        "\n",
        "url = \"https://www.example.com\"\n",
        "response = requests.get(url)"
      ]
    },
    {
      "cell_type": "markdown",
      "metadata": {
        "id": "FYEZ0YuX1FN1"
      },
      "source": [
        "# ex3\n",
        "Ce code affiche le code de statut HTTP de la réponse."
      ]
    },
    {
      "cell_type": "code",
      "execution_count": null,
      "metadata": {
        "colab": {
          "base_uri": "https://localhost:8080/"
        },
        "id": "2Qo_W0rq1J4o",
        "outputId": "96f0289d-1756-4779-f8ef-019e65178df8"
      },
      "outputs": [
        {
          "name": "stdout",
          "output_type": "stream",
          "text": [
            "<Response [200]>\n"
          ]
        }
      ],
      "source": [
        "# it will show the HTTP status code\n",
        "print(response)"
      ]
    },
    {
      "cell_type": "markdown",
      "metadata": {
        "id": "-9IEoskL1T0S"
      },
      "source": [
        "# ex4\n",
        "Ce code affiche le code de statut HTTP de la réponse."
      ]
    },
    {
      "cell_type": "code",
      "execution_count": null,
      "metadata": {
        "colab": {
          "base_uri": "https://localhost:8080/"
        },
        "id": "WJHRI1B41Y-R",
        "outputId": "5ebfef71-580b-4905-d152-5ba24284f8d0"
      },
      "outputs": [
        {
          "name": "stdout",
          "output_type": "stream",
          "text": [
            "<Response [200]>\n"
          ]
        }
      ],
      "source": [
        "# it will show the HTTP status code\n",
        "print(response)"
      ]
    },
    {
      "cell_type": "markdown",
      "metadata": {
        "id": "nx4oHMJY1i9L"
      },
      "source": [
        "## HTTP Status Codes\n",
        "Ce code affiche le code de statut HTTP de la réponse."
      ]
    },
    {
      "cell_type": "code",
      "execution_count": null,
      "metadata": {
        "colab": {
          "base_uri": "https://localhost:8080/"
        },
        "id": "t4y-Mt-Q1qht",
        "outputId": "568f4c6d-6e6f-4894-f818-7108b9d7d13d"
      },
      "outputs": [
        {
          "name": "stdout",
          "output_type": "stream",
          "text": [
            "200\n"
          ]
        }
      ],
      "source": [
        "print(response.status_code)"
      ]
    },
    {
      "cell_type": "markdown",
      "metadata": {
        "id": "nVX0inr62IWf"
      },
      "source": [
        "## Request Content"
      ]
    },
    {
      "cell_type": "markdown",
      "metadata": {
        "id": "LFXJuR0D2vqt"
      },
      "source": [
        "# ex5\n",
        "Ce code affiche le contenu brut de la page web \"[redacted link]."
      ]
    },
    {
      "cell_type": "code",
      "execution_count": null,
      "metadata": {
        "colab": {
          "base_uri": "https://localhost:8080/",
          "height": 176
        },
        "id": "CwtD5lKA2Pgq",
        "outputId": "cfd18d4c-29ff-486e-bf5b-0f07e7ed9e57"
      },
      "outputs": [
        {
          "ename": "NameError",
          "evalue": "name 'repsonse' is not defined",
          "output_type": "error",
          "traceback": [
            "\u001b[0;31m---------------------------------------------------------------------------\u001b[0m",
            "\u001b[0;31mNameError\u001b[0m                                 Traceback (most recent call last)",
            "\u001b[0;32m<ipython-input-13-e75114b14437>\u001b[0m in \u001b[0;36m<cell line: 0>\u001b[0;34m()\u001b[0m\n\u001b[1;32m      2\u001b[0m \u001b[0;34m\u001b[0m\u001b[0m\n\u001b[1;32m      3\u001b[0m \u001b[0mresponse\u001b[0m \u001b[0;34m=\u001b[0m \u001b[0mrequests\u001b[0m\u001b[0;34m.\u001b[0m\u001b[0mget\u001b[0m\u001b[0;34m(\u001b[0m\u001b[0;34m\"https://www.example.com\"\u001b[0m\u001b[0;34m)\u001b[0m\u001b[0;34m\u001b[0m\u001b[0;34m\u001b[0m\u001b[0m\n\u001b[0;32m----> 4\u001b[0;31m \u001b[0mprint\u001b[0m\u001b[0;34m(\u001b[0m\u001b[0mrepsonse\u001b[0m\u001b[0;34m.\u001b[0m\u001b[0mcontent\u001b[0m\u001b[0;34m)\u001b[0m\u001b[0;34m\u001b[0m\u001b[0;34m\u001b[0m\u001b[0m\n\u001b[0m",
            "\u001b[0;31mNameError\u001b[0m: name 'repsonse' is not defined"
          ]
        }
      ],
      "source": [
        "import requests\n",
        "\n",
        "response = requests.get(\"https://www.example.com\")\n",
        "print(repsonse.content)"
      ]
    },
    {
      "cell_type": "markdown",
      "metadata": {
        "id": "8Np2CM0f3uO5"
      },
      "source": [
        "### ex6\n",
        "Ce code affiche les données de la réponse sous forme de dictionnaire, si elles sont au format JSON."
      ]
    },
    {
      "cell_type": "code",
      "execution_count": null,
      "metadata": {
        "colab": {
          "base_uri": "https://localhost:8080/",
          "height": 477
        },
        "id": "vOlA2SFK3zH1",
        "outputId": "3ad7498b-5c01-4c8f-a577-ea06eaf3bbc1"
      },
      "outputs": [
        {
          "ename": "JSONDecodeError",
          "evalue": "Expecting value: line 1 column 1 (char 0)",
          "output_type": "error",
          "traceback": [
            "\u001b[0;31m---------------------------------------------------------------------------\u001b[0m",
            "\u001b[0;31mJSONDecodeError\u001b[0m                           Traceback (most recent call last)",
            "\u001b[0;32m/usr/local/lib/python3.11/dist-packages/requests/models.py\u001b[0m in \u001b[0;36mjson\u001b[0;34m(self, **kwargs)\u001b[0m\n\u001b[1;32m    973\u001b[0m         \u001b[0;32mtry\u001b[0m\u001b[0;34m:\u001b[0m\u001b[0;34m\u001b[0m\u001b[0;34m\u001b[0m\u001b[0m\n\u001b[0;32m--> 974\u001b[0;31m             \u001b[0;32mreturn\u001b[0m \u001b[0mcomplexjson\u001b[0m\u001b[0;34m.\u001b[0m\u001b[0mloads\u001b[0m\u001b[0;34m(\u001b[0m\u001b[0mself\u001b[0m\u001b[0;34m.\u001b[0m\u001b[0mtext\u001b[0m\u001b[0;34m,\u001b[0m \u001b[0;34m**\u001b[0m\u001b[0mkwargs\u001b[0m\u001b[0;34m)\u001b[0m\u001b[0;34m\u001b[0m\u001b[0;34m\u001b[0m\u001b[0m\n\u001b[0m\u001b[1;32m    975\u001b[0m         \u001b[0;32mexcept\u001b[0m \u001b[0mJSONDecodeError\u001b[0m \u001b[0;32mas\u001b[0m \u001b[0me\u001b[0m\u001b[0;34m:\u001b[0m\u001b[0;34m\u001b[0m\u001b[0;34m\u001b[0m\u001b[0m\n",
            "\u001b[0;32m/usr/local/lib/python3.11/dist-packages/simplejson/__init__.py\u001b[0m in \u001b[0;36mloads\u001b[0;34m(s, encoding, cls, object_hook, parse_float, parse_int, parse_constant, object_pairs_hook, use_decimal, allow_nan, **kw)\u001b[0m\n\u001b[1;32m    513\u001b[0m             and not use_decimal and not allow_nan and not kw):\n\u001b[0;32m--> 514\u001b[0;31m         \u001b[0;32mreturn\u001b[0m \u001b[0m_default_decoder\u001b[0m\u001b[0;34m.\u001b[0m\u001b[0mdecode\u001b[0m\u001b[0;34m(\u001b[0m\u001b[0ms\u001b[0m\u001b[0;34m)\u001b[0m\u001b[0;34m\u001b[0m\u001b[0;34m\u001b[0m\u001b[0m\n\u001b[0m\u001b[1;32m    515\u001b[0m     \u001b[0;32mif\u001b[0m \u001b[0mcls\u001b[0m \u001b[0;32mis\u001b[0m \u001b[0;32mNone\u001b[0m\u001b[0;34m:\u001b[0m\u001b[0;34m\u001b[0m\u001b[0;34m\u001b[0m\u001b[0m\n",
            "\u001b[0;32m/usr/local/lib/python3.11/dist-packages/simplejson/decoder.py\u001b[0m in \u001b[0;36mdecode\u001b[0;34m(self, s, _w, _PY3)\u001b[0m\n\u001b[1;32m    385\u001b[0m             \u001b[0ms\u001b[0m \u001b[0;34m=\u001b[0m \u001b[0mstr\u001b[0m\u001b[0;34m(\u001b[0m\u001b[0ms\u001b[0m\u001b[0;34m,\u001b[0m \u001b[0mself\u001b[0m\u001b[0;34m.\u001b[0m\u001b[0mencoding\u001b[0m\u001b[0;34m)\u001b[0m\u001b[0;34m\u001b[0m\u001b[0;34m\u001b[0m\u001b[0m\n\u001b[0;32m--> 386\u001b[0;31m         \u001b[0mobj\u001b[0m\u001b[0;34m,\u001b[0m \u001b[0mend\u001b[0m \u001b[0;34m=\u001b[0m \u001b[0mself\u001b[0m\u001b[0;34m.\u001b[0m\u001b[0mraw_decode\u001b[0m\u001b[0;34m(\u001b[0m\u001b[0ms\u001b[0m\u001b[0;34m)\u001b[0m\u001b[0;34m\u001b[0m\u001b[0;34m\u001b[0m\u001b[0m\n\u001b[0m\u001b[1;32m    387\u001b[0m         \u001b[0mend\u001b[0m \u001b[0;34m=\u001b[0m \u001b[0m_w\u001b[0m\u001b[0;34m(\u001b[0m\u001b[0ms\u001b[0m\u001b[0;34m,\u001b[0m \u001b[0mend\u001b[0m\u001b[0;34m)\u001b[0m\u001b[0;34m.\u001b[0m\u001b[0mend\u001b[0m\u001b[0;34m(\u001b[0m\u001b[0;34m)\u001b[0m\u001b[0;34m\u001b[0m\u001b[0;34m\u001b[0m\u001b[0m\n",
            "\u001b[0;32m/usr/local/lib/python3.11/dist-packages/simplejson/decoder.py\u001b[0m in \u001b[0;36mraw_decode\u001b[0;34m(self, s, idx, _w, _PY3)\u001b[0m\n\u001b[1;32m    415\u001b[0m                 \u001b[0midx\u001b[0m \u001b[0;34m+=\u001b[0m \u001b[0;36m3\u001b[0m\u001b[0;34m\u001b[0m\u001b[0;34m\u001b[0m\u001b[0m\n\u001b[0;32m--> 416\u001b[0;31m         \u001b[0;32mreturn\u001b[0m \u001b[0mself\u001b[0m\u001b[0;34m.\u001b[0m\u001b[0mscan_once\u001b[0m\u001b[0;34m(\u001b[0m\u001b[0ms\u001b[0m\u001b[0;34m,\u001b[0m \u001b[0midx\u001b[0m\u001b[0;34m=\u001b[0m\u001b[0m_w\u001b[0m\u001b[0;34m(\u001b[0m\u001b[0ms\u001b[0m\u001b[0;34m,\u001b[0m \u001b[0midx\u001b[0m\u001b[0;34m)\u001b[0m\u001b[0;34m.\u001b[0m\u001b[0mend\u001b[0m\u001b[0;34m(\u001b[0m\u001b[0;34m)\u001b[0m\u001b[0;34m)\u001b[0m\u001b[0;34m\u001b[0m\u001b[0;34m\u001b[0m\u001b[0m\n\u001b[0m",
            "\u001b[0;31mJSONDecodeError\u001b[0m: Expecting value: line 1 column 1 (char 0)",
            "\nDuring handling of the above exception, another exception occurred:\n",
            "\u001b[0;31mJSONDecodeError\u001b[0m                           Traceback (most recent call last)",
            "\u001b[0;32m<ipython-input-14-8c3c820e64c9>\u001b[0m in \u001b[0;36m<cell line: 0>\u001b[0;34m()\u001b[0m\n\u001b[0;32m----> 1\u001b[0;31m \u001b[0mresponse_data\u001b[0m \u001b[0;34m=\u001b[0m \u001b[0mresponse\u001b[0m\u001b[0;34m.\u001b[0m\u001b[0mjson\u001b[0m\u001b[0;34m(\u001b[0m\u001b[0;34m)\u001b[0m\u001b[0;34m\u001b[0m\u001b[0;34m\u001b[0m\u001b[0m\n\u001b[0m\u001b[1;32m      2\u001b[0m \u001b[0;31m# Shows the data as a dictionary\u001b[0m\u001b[0;34m\u001b[0m\u001b[0;34m\u001b[0m\u001b[0m\n\u001b[1;32m      3\u001b[0m \u001b[0mprint\u001b[0m\u001b[0;34m(\u001b[0m\u001b[0mresponse_data\u001b[0m\u001b[0;34m)\u001b[0m\u001b[0;34m\u001b[0m\u001b[0;34m\u001b[0m\u001b[0m\n",
            "\u001b[0;32m/usr/local/lib/python3.11/dist-packages/requests/models.py\u001b[0m in \u001b[0;36mjson\u001b[0;34m(self, **kwargs)\u001b[0m\n\u001b[1;32m    976\u001b[0m             \u001b[0;31m# Catch JSON-related errors and raise as requests.JSONDecodeError\u001b[0m\u001b[0;34m\u001b[0m\u001b[0;34m\u001b[0m\u001b[0m\n\u001b[1;32m    977\u001b[0m             \u001b[0;31m# This aliases json.JSONDecodeError and simplejson.JSONDecodeError\u001b[0m\u001b[0;34m\u001b[0m\u001b[0;34m\u001b[0m\u001b[0m\n\u001b[0;32m--> 978\u001b[0;31m             \u001b[0;32mraise\u001b[0m \u001b[0mRequestsJSONDecodeError\u001b[0m\u001b[0;34m(\u001b[0m\u001b[0me\u001b[0m\u001b[0;34m.\u001b[0m\u001b[0mmsg\u001b[0m\u001b[0;34m,\u001b[0m \u001b[0me\u001b[0m\u001b[0;34m.\u001b[0m\u001b[0mdoc\u001b[0m\u001b[0;34m,\u001b[0m \u001b[0me\u001b[0m\u001b[0;34m.\u001b[0m\u001b[0mpos\u001b[0m\u001b[0;34m)\u001b[0m\u001b[0;34m\u001b[0m\u001b[0;34m\u001b[0m\u001b[0m\n\u001b[0m\u001b[1;32m    979\u001b[0m \u001b[0;34m\u001b[0m\u001b[0m\n\u001b[1;32m    980\u001b[0m     \u001b[0;34m@\u001b[0m\u001b[0mproperty\u001b[0m\u001b[0;34m\u001b[0m\u001b[0;34m\u001b[0m\u001b[0m\n",
            "\u001b[0;31mJSONDecodeError\u001b[0m: Expecting value: line 1 column 1 (char 0)"
          ]
        }
      ],
      "source": [
        "response_data = response.json()\n",
        "# Shows the data as a dictionary\n",
        "print(response_data)"
      ]
    },
    {
      "cell_type": "markdown",
      "metadata": {
        "id": "NC6jZhTr3oWN"
      },
      "source": []
    },
    {
      "cell_type": "markdown",
      "metadata": {
        "id": "NlaXiOIm4Dy3"
      },
      "source": [
        "## **Handling Errors**"
      ]
    },
    {
      "cell_type": "markdown",
      "metadata": {
        "id": "BDaILvTC4K4f"
      },
      "source": [
        "# ex7\n",
        "Ce code vérifie si une requête web a réussi et affiche un message d'erreur si ce n'est pas le cas."
      ]
    },
    {
      "cell_type": "code",
      "execution_count": null,
      "metadata": {
        "colab": {
          "base_uri": "https://localhost:8080/"
        },
        "id": "GXkPAjFk4PeL",
        "outputId": "b3e8c285-9b23-4d0e-d249-92311028e89c"
      },
      "outputs": [
        {
          "name": "stdout",
          "output_type": "stream",
          "text": [
            "HTTP Error: 503\n"
          ]
        }
      ],
      "source": [
        "import requests\n",
        "\n",
        "# here we use an endpoint that always gives a 404 status error\n",
        "response = requests.get(\"https://httpbin.org/status/404\")\n",
        "# if status code is not 200 (successful response), then show error message\n",
        "if response.status_code != 200:\n",
        "    print(f\"HTTP Error: {response.status_code}\")"
      ]
    },
    {
      "cell_type": "markdown",
      "metadata": {
        "id": "Y4Mn-uVJ4uue"
      },
      "source": [
        "# **Setting a Timeout**"
      ]
    },
    {
      "cell_type": "markdown",
      "metadata": {
        "id": "-edViDKU4zrK"
      },
      "source": [
        "### ex8\n",
        "Ce code vérifie si une requête web a réussi et affiche un message d'erreur si ce n'est pas le cas."
      ]
    },
    {
      "cell_type": "code",
      "execution_count": null,
      "metadata": {
        "colab": {
          "base_uri": "https://localhost:8080/"
        },
        "id": "5M2cz45y45QY",
        "outputId": "c5f4d512-3cf1-4aa6-dbcb-db7ce655ffe2"
      },
      "outputs": [
        {
          "name": "stdout",
          "output_type": "stream",
          "text": [
            "HTTPSConnectionPool(host='httpbin.org', port=443): Read timed out. (read timeout=5)\n",
            "HTTPSConnectionPool(host='httpbin.org', port=443): Read timed out. (read timeout=5)\n"
          ]
        }
      ],
      "source": [
        "Ce code vérifie si une requête web a réussi et affiche un message d'erreur si ce n'est pas le cas."
      ]
    },
    {
      "cell_type": "markdown",
      "metadata": {
        "id": "IqyeczUy5hcG"
      },
      "source": []
    },
    {
      "cell_type": "markdown",
      "metadata": {
        "id": "6LdHqu8D5m1d"
      },
      "source": [
        "# **HTTP Request Headers**"
      ]
    },
    {
      "cell_type": "markdown",
      "metadata": {
        "id": "k68PBLzi5rRl"
      },
      "source": [
        "# ex9\n",
        "Ce code envoie une requête web avec des informations d'authentification."
      ]
    },
    {
      "cell_type": "code",
      "execution_count": null,
      "metadata": {
        "id": "PdQSkPJf55cv"
      },
      "outputs": [],
      "source": [
        "auth_token = \"XXXXXXXX\"\n",
        "\n",
        "# here we set the authorization header with the 'bearer token' for authentication purposes.\n",
        "headers = {\n",
        "    \"Authorization\": f\"Bearer {auth_token}\"\n",
        "}\n",
        "\n",
        "url = \"https://httpbin.org/headers\"\n",
        "response = requests.get(url, headers=headers)\n",
        "print(response.json())"
      ]
    },
    {
      "cell_type": "markdown",
      "metadata": {
        "id": "xt_gvRPF63bd"
      },
      "source": [
        "# **Web Scraping with BeautifulSoup**"
      ]
    },
    {
      "cell_type": "markdown",
      "metadata": {
        "id": "f44F_2A_7BbF"
      },
      "source": [
        "# ex10\n",
        "Ce code récupère le code complet de la page web \"[redacted link]."
      ]
    },
    {
      "cell_type": "code",
      "execution_count": null,
      "metadata": {
        "id": "AnHoY6hG7GjH"
      },
      "outputs": [],
      "source": [
        "import requests\n",
        "\n",
        "url = \"https://www.example.com\"\n",
        "# this will get all the HTML, javascript, css code\n",
        "response = requests.get(url)"
      ]
    },
    {
      "cell_type": "markdown",
      "metadata": {
        "id": "Npn7iLsC7W9V"
      },
      "source": [
        "# ex11\n",
        "Ce code récupère le code complet de la page web \"[redacted link]."
      ]
    },
    {
      "cell_type": "code",
      "execution_count": null,
      "metadata": {
        "id": "dN8G4Nfd7ZNE"
      },
      "outputs": [],
      "source": [
        "import requests\n",
        "\n",
        "url = \"https://www.example.com\"\n",
        "# this will get all the HTML, javascript, css code\n",
        "response = requests.get(url)"
      ]
    },
    {
      "cell_type": "markdown",
      "metadata": {
        "id": "lglB1I_Z7loF"
      },
      "source": [
        "# ex12\n",
        "Ce code installe la librairie BeautifulSoup4 pour analyser le code HTML."
      ]
    },
    {
      "cell_type": "code",
      "execution_count": null,
      "metadata": {
        "colab": {
          "base_uri": "https://localhost:8080/"
        },
        "id": "Pjy66KyN7orX",
        "outputId": "4ea1af40-f5fd-4691-b476-10baf81593b4"
      },
      "outputs": [
        {
          "name": "stdout",
          "output_type": "stream",
          "text": [
            "Requirement already satisfied: beautifulsoup4 in /usr/local/lib/python3.11/dist-packages (4.13.4)\n",
            "Requirement already satisfied: soupsieve>1.2 in /usr/local/lib/python3.11/dist-packages (from beautifulsoup4) (2.6)\n",
            "Requirement already satisfied: typing-extensions>=4.0.0 in /usr/local/lib/python3.11/dist-packages (from beautifulsoup4) (4.13.2)\n"
          ]
        }
      ],
      "source": [
        "pip install beautifulsoup4"
      ]
    },
    {
      "cell_type": "markdown",
      "metadata": {
        "id": "WGdd9Uyo7z41"
      },
      "source": [
        "# ex13\n",
        "Ce code prépare le code HTML de la page web pour être analysé."
      ]
    },
    {
      "cell_type": "code",
      "execution_count": null,
      "metadata": {
        "id": "JPcVXYUo71Yg"
      },
      "outputs": [],
      "source": [
        "import requests\n",
        "from bs4 import BeautifulSoup\n",
        "\n",
        "url = \"https://www.example.com\"\n",
        "response = requests.get(url)\n",
        "soup = BeautifulSoup(response.content, \"html.parser\")"
      ]
    },
    {
      "cell_type": "markdown",
      "metadata": {
        "id": "4HlEtztW8N1a"
      },
      "source": [
        "## ex14\n",
        "Ce code extrait le titre, le contenu et les liens d'une page web."
      ]
    },
    {
      "cell_type": "code",
      "execution_count": null,
      "metadata": {
        "colab": {
          "background_save": true,
          "base_uri": "https://localhost:8080/"
        },
        "id": "CXrNBBi78Wsi",
        "outputId": "69d496c2-5ed9-4350-aafe-9c8f580c029b"
      },
      "outputs": [
        {
          "name": "stdout",
          "output_type": "stream",
          "text": [
            "Example Domain This domain is for use in illustrative examples in documents. You may use this\n",
            "    domain in literature without prior coordination or asking for permission. ['https://www.iana.org/domains/example']\n"
          ]
        }
      ],
      "source": [
        "title = soup.title.text\n",
        "content = soup.find(\"p\").text\n",
        "links = [a[\"href\"] for a in soup.find_all(\"a\")]\n",
        "\n",
        "print(title, content, links)"
      ]
    },
    {
      "cell_type": "markdown",
      "source": [
        "# **FastAPI Tutorial**"
      ],
      "metadata": {
        "id": "vwRoyUGZSQTq"
      }
    },
    {
      "cell_type": "markdown",
      "source": [
        "# Install and Get Started with FastAPI"
      ],
      "metadata": {
        "id": "wk7SEKbHSs9d"
      }
    },
    {
      "cell_type": "markdown",
      "source": [
        "# ex15\n",
        "La commande installe FastAPI et Uvicorn pour créer et exécuter des API web rapides en Python."
      ],
      "metadata": {
        "id": "QY9ordLDTaay"
      }
    },
    {
      "cell_type": "markdown",
      "source": [],
      "metadata": {
        "id": "fxUy8ZS5S7ZH"
      }
    },
    {
      "cell_type": "code",
      "source": [
        "pip install fastapi uvicorn"
      ],
      "metadata": {
        "colab": {
          "base_uri": "https://localhost:8080/"
        },
        "id": "NCXluGtIS94p",
        "outputId": "cfe17011-5ed9-4466-a79a-bc1028e8743a"
      },
      "execution_count": 1,
      "outputs": [
        {
          "output_type": "stream",
          "name": "stdout",
          "text": [
            "Collecting fastapi\n",
            "  Downloading fastapi-0.115.12-py3-none-any.whl.metadata (27 kB)\n",
            "Collecting uvicorn\n",
            "  Downloading uvicorn-0.34.2-py3-none-any.whl.metadata (6.5 kB)\n",
            "Collecting starlette<0.47.0,>=0.40.0 (from fastapi)\n",
            "  Downloading starlette-0.46.2-py3-none-any.whl.metadata (6.2 kB)\n",
            "Requirement already satisfied: pydantic!=1.8,!=1.8.1,!=2.0.0,!=2.0.1,!=2.1.0,<3.0.0,>=1.7.4 in /usr/local/lib/python3.11/dist-packages (from fastapi) (2.11.3)\n",
            "Requirement already satisfied: typing-extensions>=4.8.0 in /usr/local/lib/python3.11/dist-packages (from fastapi) (4.13.2)\n",
            "Requirement already satisfied: click>=7.0 in /usr/local/lib/python3.11/dist-packages (from uvicorn) (8.1.8)\n",
            "Requirement already satisfied: h11>=0.8 in /usr/local/lib/python3.11/dist-packages (from uvicorn) (0.14.0)\n",
            "Requirement already satisfied: annotated-types>=0.6.0 in /usr/local/lib/python3.11/dist-packages (from pydantic!=1.8,!=1.8.1,!=2.0.0,!=2.0.1,!=2.1.0,<3.0.0,>=1.7.4->fastapi) (0.7.0)\n",
            "Requirement already satisfied: pydantic-core==2.33.1 in /usr/local/lib/python3.11/dist-packages (from pydantic!=1.8,!=1.8.1,!=2.0.0,!=2.0.1,!=2.1.0,<3.0.0,>=1.7.4->fastapi) (2.33.1)\n",
            "Requirement already satisfied: typing-inspection>=0.4.0 in /usr/local/lib/python3.11/dist-packages (from pydantic!=1.8,!=1.8.1,!=2.0.0,!=2.0.1,!=2.1.0,<3.0.0,>=1.7.4->fastapi) (0.4.0)\n",
            "Requirement already satisfied: anyio<5,>=3.6.2 in /usr/local/lib/python3.11/dist-packages (from starlette<0.47.0,>=0.40.0->fastapi) (4.9.0)\n",
            "Requirement already satisfied: idna>=2.8 in /usr/local/lib/python3.11/dist-packages (from anyio<5,>=3.6.2->starlette<0.47.0,>=0.40.0->fastapi) (3.10)\n",
            "Requirement already satisfied: sniffio>=1.1 in /usr/local/lib/python3.11/dist-packages (from anyio<5,>=3.6.2->starlette<0.47.0,>=0.40.0->fastapi) (1.3.1)\n",
            "Downloading fastapi-0.115.12-py3-none-any.whl (95 kB)\n",
            "\u001b[2K   \u001b[90m━━━━━━━━━━━━━━━━━━━━━━━━━━━━━━━━━━━━━━━━\u001b[0m \u001b[32m95.2/95.2 kB\u001b[0m \u001b[31m3.4 MB/s\u001b[0m eta \u001b[36m0:00:00\u001b[0m\n",
            "\u001b[?25hDownloading uvicorn-0.34.2-py3-none-any.whl (62 kB)\n",
            "\u001b[2K   \u001b[90m━━━━━━━━━━━━━━━━━━━━━━━━━━━━━━━━━━━━━━━━\u001b[0m \u001b[32m62.5/62.5 kB\u001b[0m \u001b[31m2.9 MB/s\u001b[0m eta \u001b[36m0:00:00\u001b[0m\n",
            "\u001b[?25hDownloading starlette-0.46.2-py3-none-any.whl (72 kB)\n",
            "\u001b[2K   \u001b[90m━━━━━━━━━━━━━━━━━━━━━━━━━━━━━━━━━━━━━━━━\u001b[0m \u001b[32m72.0/72.0 kB\u001b[0m \u001b[31m4.4 MB/s\u001b[0m eta \u001b[36m0:00:00\u001b[0m\n",
            "\u001b[?25hInstalling collected packages: uvicorn, starlette, fastapi\n",
            "Successfully installed fastapi-0.115.12 starlette-0.46.2 uvicorn-0.34.2\n"
          ]
        }
      ]
    },
    {
      "cell_type": "markdown",
      "source": [
        "# ex16\n",
        "Ce code crée une API web simple avec FastAPI qui renvoie \"Hello: World\" lorsqu'on accède à la racine (\"/\")."
      ],
      "metadata": {
        "id": "YkXFlDoUTfOF"
      }
    },
    {
      "cell_type": "code",
      "source": [
        "from fastapi import FastAPI\n",
        "\n",
        "# Create an app\n",
        "app = FastAPI()\n",
        "\n",
        "# define a path for HTTP Get method\n",
        "@app.get(\"/\")\n",
        "def root():\n",
        "    return {\"Hello\": \"World\"}"
      ],
      "metadata": {
        "id": "ngrgEIhlTioE"
      },
      "execution_count": 2,
      "outputs": []
    },
    {
      "cell_type": "markdown",
      "source": [
        "# ex17\n",
        "Cette commande démarre l'API web FastAPI avec Uvicorn et active le rechargement automatique du code en cas de modification."
      ],
      "metadata": {
        "id": "eSMjsYs6Tz70"
      }
    },
    {
      "cell_type": "code",
      "source": [
        "uvicorn main:app --reload"
      ],
      "metadata": {
        "colab": {
          "base_uri": "https://localhost:8080/",
          "height": 106
        },
        "id": "I1i0jx9XT19h",
        "outputId": "6c95dc1b-49af-4299-de65-e5f06a4f9b96"
      },
      "execution_count": 3,
      "outputs": [
        {
          "output_type": "error",
          "ename": "SyntaxError",
          "evalue": "invalid syntax (<ipython-input-3-529978818c8b>, line 1)",
          "traceback": [
            "\u001b[0;36m  File \u001b[0;32m\"<ipython-input-3-529978818c8b>\"\u001b[0;36m, line \u001b[0;32m1\u001b[0m\n\u001b[0;31m    uvicorn main:app --reload\u001b[0m\n\u001b[0m            ^\u001b[0m\n\u001b[0;31mSyntaxError\u001b[0m\u001b[0;31m:\u001b[0m invalid syntax\n"
          ]
        }
      ]
    },
    {
      "cell_type": "markdown",
      "source": [
        "## GET and POST Routes\n"
      ],
      "metadata": {
        "id": "1P0q-JkZUEW2"
      }
    },
    {
      "cell_type": "markdown",
      "source": [],
      "metadata": {
        "id": "PRB3ulphTwVX"
      }
    },
    {
      "cell_type": "markdown",
      "source": [
        "# ex18\n",
        "Ce code initialise une liste vide nommée \"items\" qui peut être utilisée pour stocker des éléments."
      ],
      "metadata": {
        "id": "_fLRrqkYUJXq"
      }
    },
    {
      "cell_type": "markdown",
      "source": [],
      "metadata": {
        "id": "zhhK83XdUTM1"
      }
    },
    {
      "cell_type": "code",
      "source": [
        "items = []"
      ],
      "metadata": {
        "id": "1C5q9CmEUT_3"
      },
      "execution_count": 4,
      "outputs": []
    },
    {
      "cell_type": "markdown",
      "source": [
        "# ex19\n",
        "Ce code définit une route POST qui ajoute un nouvel élément à la liste items et le renvoie."
      ],
      "metadata": {
        "id": "Roo9M6SyUljC"
      }
    },
    {
      "cell_type": "code",
      "source": [
        "@app.post(\"items\")\n",
        "def create_item(item: str):\n",
        "    items.append(item)\n",
        "    return item"
      ],
      "metadata": {
        "id": "1Ztj_vjoUqtK"
      },
      "execution_count": 5,
      "outputs": []
    },
    {
      "cell_type": "markdown",
      "source": [
        "# ex20\n",
        "Cette commande envoie une requête HTTP POST pour ajouter \"apple\" à la liste d'éléments de l'API."
      ],
      "metadata": {
        "id": "0ZjUGDQjU-wA"
      }
    },
    {
      "cell_type": "code",
      "source": [
        "curl -X POST -H \"Content-Type: application/json\" 'http://127.0.0.1:8000/items?item=apple'"
      ],
      "metadata": {
        "colab": {
          "base_uri": "https://localhost:8080/",
          "height": 106
        },
        "id": "yvTsgggSVCPM",
        "outputId": "e84a35f2-452a-49d5-acb8-9242401ab9df"
      },
      "execution_count": 6,
      "outputs": [
        {
          "output_type": "error",
          "ename": "SyntaxError",
          "evalue": "invalid syntax (<ipython-input-6-e306490bbeee>, line 1)",
          "traceback": [
            "\u001b[0;36m  File \u001b[0;32m\"<ipython-input-6-e306490bbeee>\"\u001b[0;36m, line \u001b[0;32m1\u001b[0m\n\u001b[0;31m    curl -X POST -H \"Content-Type: application/json\" 'http://127.0.0.1:8000/items?item=apple'\u001b[0m\n\u001b[0m            ^\u001b[0m\n\u001b[0;31mSyntaxError\u001b[0m\u001b[0;31m:\u001b[0m invalid syntax\n"
          ]
        }
      ]
    },
    {
      "cell_type": "markdown",
      "source": [
        "# ex21\n",
        "Ce code définit une route GET qui récupère un élément de la liste items en fonction de son index (item_id) et le renvoie."
      ],
      "metadata": {
        "id": "fcu-zTY5Wdgg"
      }
    },
    {
      "cell_type": "code",
      "source": [
        "@app.get(\"items/{item_id}\")\n",
        "def get_item(item_id: int) -> str:\n",
        "    item = items[item_id]\n",
        "    return item"
      ],
      "metadata": {
        "id": "VjmHIyUAWe8Z"
      },
      "execution_count": 7,
      "outputs": []
    },
    {
      "cell_type": "markdown",
      "source": [
        "# ex22\n",
        "Cette commande envoie une requête HTTP GET pour récupérer l'élément d'index 0 de la liste items de l'API."
      ],
      "metadata": {
        "id": "RS6CvIJYXPRn"
      }
    },
    {
      "cell_type": "code",
      "source": [
        "curl -X GET http://127.0.0.1:8000/items/0"
      ],
      "metadata": {
        "colab": {
          "base_uri": "https://localhost:8080/",
          "height": 106
        },
        "id": "S_Ycx3BuXQ24",
        "outputId": "4c24f471-a5ac-4be3-a4f6-b7922efc6c61"
      },
      "execution_count": 8,
      "outputs": [
        {
          "output_type": "error",
          "ename": "SyntaxError",
          "evalue": "invalid syntax (<ipython-input-8-180c864ffff4>, line 1)",
          "traceback": [
            "\u001b[0;36m  File \u001b[0;32m\"<ipython-input-8-180c864ffff4>\"\u001b[0;36m, line \u001b[0;32m1\u001b[0m\n\u001b[0;31m    curl -X GET http://127.0.0.1:8000/items/0\u001b[0m\n\u001b[0m            ^\u001b[0m\n\u001b[0;31mSyntaxError\u001b[0m\u001b[0;31m:\u001b[0m invalid syntax\n"
          ]
        }
      ]
    },
    {
      "cell_type": "markdown",
      "source": [
        "# ex23\n",
        "Cette commande envoie une requête HTTP GET pour récupérer l'élément d'index 7 de la liste items de l'API."
      ],
      "metadata": {
        "id": "LtITrGVuXj5B"
      }
    },
    {
      "cell_type": "code",
      "source": [
        "curl -X GET http://127.0.0.1:8000/items/7"
      ],
      "metadata": {
        "colab": {
          "base_uri": "https://localhost:8080/",
          "height": 106
        },
        "id": "53Wz5rqMXnLe",
        "outputId": "fef84904-479b-4e3e-b785-4caa44e6299f"
      },
      "execution_count": 9,
      "outputs": [
        {
          "output_type": "error",
          "ename": "SyntaxError",
          "evalue": "invalid syntax (<ipython-input-9-2e34130924f8>, line 1)",
          "traceback": [
            "\u001b[0;36m  File \u001b[0;32m\"<ipython-input-9-2e34130924f8>\"\u001b[0;36m, line \u001b[0;32m1\u001b[0m\n\u001b[0;31m    curl -X GET http://127.0.0.1:8000/items/7\u001b[0m\n\u001b[0m            ^\u001b[0m\n\u001b[0;31mSyntaxError\u001b[0m\u001b[0;31m:\u001b[0m invalid syntax\n"
          ]
        }
      ]
    },
    {
      "cell_type": "markdown",
      "source": [
        "# Handling HTTP Errors"
      ],
      "metadata": {
        "id": "mP-xbVWkX2A7"
      }
    },
    {
      "cell_type": "markdown",
      "source": [
        "# ex24\n",
        "Ce code importe FastAPI et HTTPException pour créer des API web et gérer les erreurs HTTP."
      ],
      "metadata": {
        "id": "KlQMRd-CX8ds"
      }
    },
    {
      "cell_type": "code",
      "source": [
        "from fastapi import FastAPI, HTTPException"
      ],
      "metadata": {
        "id": "ryJ3xcarYEUD"
      },
      "execution_count": 10,
      "outputs": []
    },
    {
      "cell_type": "markdown",
      "source": [
        "# ex25\n",
        "Ce code gère les erreurs en renvoyant un code 404 si l'élément demandé n'existe pas dans la liste."
      ],
      "metadata": {
        "id": "b1NNHJliYY3v"
      }
    },
    {
      "cell_type": "code",
      "source": [
        "@app.get(\"items/{item_id}\")\n",
        "def get_item(item_id: int) -> str:\n",
        "    if item_id < len(items):\n",
        "        return = items[item_id]\n",
        "    else:\n",
        "        raise HTTPException(status_code=404, detail=f\"Item {item_id} not found\")"
      ],
      "metadata": {
        "colab": {
          "base_uri": "https://localhost:8080/",
          "height": 106
        },
        "id": "SN4zVqobYfOY",
        "outputId": "31e98b1a-cea0-45f4-edf0-2fb104880308"
      },
      "execution_count": 11,
      "outputs": [
        {
          "output_type": "error",
          "ename": "SyntaxError",
          "evalue": "invalid syntax (<ipython-input-11-7733e716c25b>, line 4)",
          "traceback": [
            "\u001b[0;36m  File \u001b[0;32m\"<ipython-input-11-7733e716c25b>\"\u001b[0;36m, line \u001b[0;32m4\u001b[0m\n\u001b[0;31m    return = items[item_id]\u001b[0m\n\u001b[0m           ^\u001b[0m\n\u001b[0;31mSyntaxError\u001b[0m\u001b[0;31m:\u001b[0m invalid syntax\n"
          ]
        }
      ]
    },
    {
      "cell_type": "markdown",
      "source": [
        "# ex26\n",
        "Cette commande envoie une requête HTTP GET pour récupérer l'élément d'index 7 de la liste items de l'API."
      ],
      "metadata": {
        "id": "STKoWXCsZGfY"
      }
    },
    {
      "cell_type": "code",
      "source": [
        "curl -X GET http://127.0.0.1:8000/items/7"
      ],
      "metadata": {
        "colab": {
          "base_uri": "https://localhost:8080/",
          "height": 106
        },
        "id": "TO375W56ZQGi",
        "outputId": "3914dc48-e8ea-4998-93ec-6541a13c52b4"
      },
      "execution_count": 12,
      "outputs": [
        {
          "output_type": "error",
          "ename": "SyntaxError",
          "evalue": "invalid syntax (<ipython-input-12-2e34130924f8>, line 1)",
          "traceback": [
            "\u001b[0;36m  File \u001b[0;32m\"<ipython-input-12-2e34130924f8>\"\u001b[0;36m, line \u001b[0;32m1\u001b[0m\n\u001b[0;31m    curl -X GET http://127.0.0.1:8000/items/7\u001b[0m\n\u001b[0m            ^\u001b[0m\n\u001b[0;31mSyntaxError\u001b[0m\u001b[0;31m:\u001b[0m invalid syntax\n"
          ]
        }
      ]
    },
    {
      "cell_type": "markdown",
      "source": [
        "# ex27\n",
        "Message d'erreur indiquant que l'élément 7 n'a pas été trouvé."
      ],
      "metadata": {
        "id": "fZCmU98SZj8Q"
      }
    },
    {
      "cell_type": "code",
      "source": [
        "{\"detail\" : \"Item 7 not found\"}"
      ],
      "metadata": {
        "colab": {
          "base_uri": "https://localhost:8080/"
        },
        "id": "Lh0NJddTZlhy",
        "outputId": "92ea5701-a221-4a15-8ea9-8d1570cd50e6"
      },
      "execution_count": 13,
      "outputs": [
        {
          "output_type": "execute_result",
          "data": {
            "text/plain": [
              "{'detail': 'Item 7 not found'}"
            ]
          },
          "metadata": {},
          "execution_count": 13
        }
      ]
    },
    {
      "cell_type": "markdown",
      "source": [
        "# JSON Request and Path Parameters"
      ],
      "metadata": {
        "id": "LUyXwykmZufM"
      }
    },
    {
      "cell_type": "markdown",
      "source": [
        "# ex28\n",
        "Ce code définit une route GET qui renvoie une liste d'éléments, avec un paramètre de requête optionnel limit pour spécifier le nombre maximum d'éléments à renvoyer (par défaut 10)."
      ],
      "metadata": {
        "id": "QV84kYipaAzV"
      }
    },
    {
      "cell_type": "code",
      "source": [
        "# this endpoint uses a query parameter 'limit'\n",
        "@app.get(\"/items/\")\n",
        "def list_items(limit: int = 10):\n",
        "    return items[0:limit]"
      ],
      "metadata": {
        "id": "NbjQSL0ZaEDu"
      },
      "execution_count": 14,
      "outputs": []
    },
    {
      "cell_type": "markdown",
      "source": [
        "# ex29\n",
        "Cette commande récupère les 3 premiers éléments de la liste \"items\" via l'API"
      ],
      "metadata": {
        "id": "asJayu15aQpZ"
      }
    },
    {
      "cell_type": "code",
      "source": [
        "curl -X GET 'http://127.0.0.1:8000/items?limit=3'"
      ],
      "metadata": {
        "colab": {
          "base_uri": "https://localhost:8080/",
          "height": 106
        },
        "id": "8U3akzgRaT6O",
        "outputId": "42d083fc-4e59-461c-d15b-9a39fee1aa19"
      },
      "execution_count": 15,
      "outputs": [
        {
          "output_type": "error",
          "ename": "SyntaxError",
          "evalue": "invalid syntax (<ipython-input-15-65f579534cd4>, line 1)",
          "traceback": [
            "\u001b[0;36m  File \u001b[0;32m\"<ipython-input-15-65f579534cd4>\"\u001b[0;36m, line \u001b[0;32m1\u001b[0m\n\u001b[0;31m    curl -X GET 'http://127.0.0.1:8000/items?limit=3'\u001b[0m\n\u001b[0m            ^\u001b[0m\n\u001b[0;31mSyntaxError\u001b[0m\u001b[0;31m:\u001b[0m invalid syntax\n"
          ]
        }
      ]
    },
    {
      "cell_type": "markdown",
      "source": [
        "# Pydantic models"
      ],
      "metadata": {
        "id": "PjNFH7X8aqvZ"
      }
    },
    {
      "cell_type": "markdown",
      "source": [
        "# ex30\n",
        "Ce code importe la classe BaseModel du module pydantic. BaseModel est utilisée pour définir des modèles de données avec validation de type et de valeurs."
      ],
      "metadata": {
        "id": "EMAtcOvyalks"
      }
    },
    {
      "cell_type": "code",
      "source": [
        "from pydantic import BaseModel"
      ],
      "metadata": {
        "id": "LsNd3r7Man-4"
      },
      "execution_count": 16,
      "outputs": []
    },
    {
      "cell_type": "markdown",
      "source": [
        "# ex31\n",
        "Ce code définit un modèle de données Item avec deux attributs : text (une chaîne de caractères optionnelle) et is_done (un booléen par défaut à False)."
      ],
      "metadata": {
        "id": "oCnv0DUBbBHc"
      }
    },
    {
      "cell_type": "code",
      "source": [
        "class Item(BaseModel):\n",
        "    text: str = None\n",
        "    is_done: bool = False"
      ],
      "metadata": {
        "id": "9N1k3WdPbJgq"
      },
      "execution_count": 17,
      "outputs": []
    },
    {
      "cell_type": "markdown",
      "source": [
        "# ex32\n",
        "Ce code indique que les fonctions create_item et get_item utilisent le modèle Item de Pydantic pour la validation et la structure des données.\n",
        "\n"
      ],
      "metadata": {
        "id": "OZOkKCR5bVcT"
      }
    },
    {
      "cell_type": "code",
      "source": [
        "...\n",
        "def create_item(item: Item):\n",
        "...\n",
        "def get_item(item_id: int) -> Item:"
      ],
      "metadata": {
        "colab": {
          "base_uri": "https://localhost:8080/",
          "height": 106
        },
        "id": "c3RkHAJubXoC",
        "outputId": "ca85eb04-4e95-4a86-953e-9e1f84cddc74"
      },
      "execution_count": 18,
      "outputs": [
        {
          "output_type": "error",
          "ename": "IndentationError",
          "evalue": "expected an indented block after function definition on line 2 (<ipython-input-18-dfa087d11da7>, line 3)",
          "traceback": [
            "\u001b[0;36m  File \u001b[0;32m\"<ipython-input-18-dfa087d11da7>\"\u001b[0;36m, line \u001b[0;32m3\u001b[0m\n\u001b[0;31m    ...\u001b[0m\n\u001b[0m    ^\u001b[0m\n\u001b[0;31mIndentationError\u001b[0m\u001b[0;31m:\u001b[0m expected an indented block after function definition on line 2\n"
          ]
        }
      ]
    },
    {
      "cell_type": "markdown",
      "source": [
        "# ex33\n",
        "Cette commande envoie une requête HTTP POST pour ajouter \"apple\" à la liste d'éléments de l'API."
      ],
      "metadata": {
        "id": "7iuBiZiwbqRO"
      }
    },
    {
      "cell_type": "code",
      "source": [
        "curl -X POST -H \"Content-Type: application/json\" 'http://127.0.0.1:8000/items?item=apple'"
      ],
      "metadata": {
        "colab": {
          "base_uri": "https://localhost:8080/",
          "height": 106
        },
        "id": "lNs9YkV_bvzZ",
        "outputId": "a3e8de7b-9a8d-49ff-a830-426df01ed181"
      },
      "execution_count": 19,
      "outputs": [
        {
          "output_type": "error",
          "ename": "SyntaxError",
          "evalue": "invalid syntax (<ipython-input-19-e306490bbeee>, line 1)",
          "traceback": [
            "\u001b[0;36m  File \u001b[0;32m\"<ipython-input-19-e306490bbeee>\"\u001b[0;36m, line \u001b[0;32m1\u001b[0m\n\u001b[0;31m    curl -X POST -H \"Content-Type: application/json\" 'http://127.0.0.1:8000/items?item=apple'\u001b[0m\n\u001b[0m            ^\u001b[0m\n\u001b[0;31mSyntaxError\u001b[0m\u001b[0;31m:\u001b[0m invalid syntax\n"
          ]
        }
      ]
    },
    {
      "cell_type": "markdown",
      "source": [
        "# ex34\n",
        "Cette commande envoie une requête POST pour créer un nouvel élément avec le texte \"apple\" dans l'API."
      ],
      "metadata": {
        "id": "vtWJFZEvb6nl"
      }
    },
    {
      "cell_type": "code",
      "source": [
        "curl -X POST -H \"Content-Type: application/json\" -d '{\"text\":\"apple\"}' 'http://127.0.0.1:8000/items'"
      ],
      "metadata": {
        "colab": {
          "base_uri": "https://localhost:8080/",
          "height": 106
        },
        "id": "R7zOhYh1b_Ai",
        "outputId": "af7f6cf7-4e17-4bde-a6ca-8c43160c79b4"
      },
      "execution_count": 20,
      "outputs": [
        {
          "output_type": "error",
          "ename": "SyntaxError",
          "evalue": "invalid syntax (<ipython-input-20-d3488e1d570e>, line 1)",
          "traceback": [
            "\u001b[0;36m  File \u001b[0;32m\"<ipython-input-20-d3488e1d570e>\"\u001b[0;36m, line \u001b[0;32m1\u001b[0m\n\u001b[0;31m    curl -X POST -H \"Content-Type: application/json\" -d '{\"text\":\"apple\"}' 'http://127.0.0.1:8000/items'\u001b[0m\n\u001b[0m            ^\u001b[0m\n\u001b[0;31mSyntaxError\u001b[0m\u001b[0;31m:\u001b[0m invalid syntax\n"
          ]
        }
      ]
    },
    {
      "cell_type": "markdown",
      "source": [
        "# ex35\n",
        "Représentation JSON d'une liste contenant un élément avec le texte \"apple\" et l'état \"is_done\" à false."
      ],
      "metadata": {
        "id": "C880LqRbcdHn"
      }
    },
    {
      "cell_type": "code",
      "source": [
        "[{\"text\":\"apple\",\"is_done\":false}]"
      ],
      "metadata": {
        "colab": {
          "base_uri": "https://localhost:8080/",
          "height": 141
        },
        "id": "YeCmAC1eciau",
        "outputId": "5e4ad227-a4e4-4740-f44d-756e4d249fa4"
      },
      "execution_count": 21,
      "outputs": [
        {
          "output_type": "error",
          "ename": "NameError",
          "evalue": "name 'false' is not defined",
          "traceback": [
            "\u001b[0;31m---------------------------------------------------------------------------\u001b[0m",
            "\u001b[0;31mNameError\u001b[0m                                 Traceback (most recent call last)",
            "\u001b[0;32m<ipython-input-21-ba95098b7e73>\u001b[0m in \u001b[0;36m<cell line: 0>\u001b[0;34m()\u001b[0m\n\u001b[0;32m----> 1\u001b[0;31m \u001b[0;34m[\u001b[0m\u001b[0;34m{\u001b[0m\u001b[0;34m\"text\"\u001b[0m\u001b[0;34m:\u001b[0m\u001b[0;34m\"apple\"\u001b[0m\u001b[0;34m,\u001b[0m\u001b[0;34m\"is_done\"\u001b[0m\u001b[0;34m:\u001b[0m\u001b[0mfalse\u001b[0m\u001b[0;34m}\u001b[0m\u001b[0;34m]\u001b[0m\u001b[0;34m\u001b[0m\u001b[0;34m\u001b[0m\u001b[0m\n\u001b[0m",
            "\u001b[0;31mNameError\u001b[0m: name 'false' is not defined"
          ]
        }
      ]
    },
    {
      "cell_type": "markdown",
      "source": [
        "# ex36\n",
        "Ce code définit un modèle de données Item avec deux attributs : text (une chaîne de caractères obligatoire) et is_done (un booléen facultatif, par défaut à False)."
      ],
      "metadata": {
        "id": "Wfxy-cfPcx0h"
      }
    },
    {
      "cell_type": "code",
      "source": [
        "class Item(BaseModel):\n",
        "    # without default value\n",
        "    text: str\n",
        "    is_done: bool = False"
      ],
      "metadata": {
        "id": "XFVAJFJqc2ZA"
      },
      "execution_count": 22,
      "outputs": []
    },
    {
      "cell_type": "markdown",
      "source": [
        "# ex37\n",
        "Cette commande tente de créer un nouvel élément via une requête POST, mais elle échouera."
      ],
      "metadata": {
        "id": "byPyz6VudWWR"
      }
    },
    {
      "cell_type": "code",
      "source": [
        "curl -X POST -H \"Content-Type: application/json\" -d '{\"title\":\"apple\"}' 'http://127.0.0.1:8000/items'"
      ],
      "metadata": {
        "colab": {
          "base_uri": "https://localhost:8080/",
          "height": 106
        },
        "id": "zkXimNoydjuj",
        "outputId": "b9546b9a-c061-4bdd-9bf8-9bc957a7db4f"
      },
      "execution_count": 23,
      "outputs": [
        {
          "output_type": "error",
          "ename": "SyntaxError",
          "evalue": "invalid syntax (<ipython-input-23-1c08ebd13a47>, line 1)",
          "traceback": [
            "\u001b[0;36m  File \u001b[0;32m\"<ipython-input-23-1c08ebd13a47>\"\u001b[0;36m, line \u001b[0;32m1\u001b[0m\n\u001b[0;31m    curl -X POST -H \"Content-Type: application/json\" -d '{\"title\":\"apple\"}' 'http://127.0.0.1:8000/items'\u001b[0m\n\u001b[0m            ^\u001b[0m\n\u001b[0;31mSyntaxError\u001b[0m\u001b[0;31m:\u001b[0m invalid syntax\n"
          ]
        }
      ]
    },
    {
      "cell_type": "markdown",
      "source": [],
      "metadata": {
        "id": "oGGckIjKdywO"
      }
    }
  ],
  "metadata": {
    "colab": {
      "provenance": [],
      "authorship_tag": "ABX9TyNpl7jB+yLTtw/fUx5C9dG9",
      "include_colab_link": true
    },
    "kernelspec": {
      "display_name": "Python 3",
      "name": "python3"
    },
    "language_info": {
      "name": "python"
    }
  },
  "nbformat": 4,
  "nbformat_minor": 0
}